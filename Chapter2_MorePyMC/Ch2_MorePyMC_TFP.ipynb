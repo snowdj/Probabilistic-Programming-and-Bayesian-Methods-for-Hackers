{
  "nbformat": 4,
  "nbformat_minor": 0,
  "metadata": {
    "colab": {
      "name": "Ch2_MorePyMC_TFP.ipynb",
      "version": "0.3.2",
      "provenance": [],
      "collapsed_sections": []
    },
    "kernelspec": {
      "display_name": "Python 3",
      "language": "python",
      "name": "python3"
    },
    "accelerator": "GPU"
  },
  "cells": [
    {
      "metadata": {
        "id": "phBEJ8iLIAwF",
        "colab_type": "text"
      },
      "cell_type": "markdown",
      "source": [
        "# Probabilistic Programming and Bayesian Methods for Hackers Chapter  2\n",
        "\n",
        "<table class=\"tfo-notebook-buttons\" align=\"left\">\n",
        "  <td>\n",
        "    <a target=\"_blank\" href=\"https://drive.google.com/file/d/1HxnSpRwRMrQnXRrOhEtMLKe2ZN1SyrbJ/view?usp=sharing\"><img src=\"https://www.tensorflow.org/images/colab_logo_32px.png\" />Run in Google Colab</a>\n",
        "  </td>\n",
        "  <td>\n",
        "    <a target=\"_blank\" href=\"https://github.com/CamDavidsonPilon/Probabilistic-Programming-and-Bayesian-Methods-for-Hackers/blob/13ec2c5a49406d6986b6b5f2468d6fa0b8b5d5ac/Chapter2_MorePyMC/Ch2_MorePyMC_TFP.ipynb\"><img src=\"https://www.tensorflow.org/images/GitHub-Mark-32px.png\" />View source on GitHub</a>\n",
        "  </td>\n",
        "</table>\n",
        "<br>\n",
        "<br>\n",
        "<br>\n",
        "\n",
        "Original content ([this Jupyter notebook](https://nbviewer.jupyter.org/github/CamDavidsonPilon/Probabilistic-Programming-and-Bayesian-Methods-for-Hackers/blob/master/Chapter2_MorePyMC/Ch2_MorePyMC_PyMC2.ipynb)) created by Cam Davidson-Pilon ([`@Cmrn_DP`](https://twitter.com/Cmrn_DP))\n",
        "\n",
        "Ported to [Tensorflow Probability](https://www.tensorflow.org/probability/) by Matthew McAteer ([`@MatthewMcAteer0`](https://twitter.com/MatthewMcAteer0)), with help from Bryan Seybold, Mike Shwe ([`@mikeshwe`](https://twitter.com/mikeshwe)), Josh Dillon, and the rest of the TFP team at  Google ([`tfprobability@tensorflow.org`](mailto:tfprobability@tensorflow.org)).\n",
        "\n",
        "Welcome to Bayesian Methods for Hackers. The full Github repository is available at [github/Probabilistic-Programming-and-Bayesian-Methods-for-Hackers](https://github.com/CamDavidsonPilon/Probabilistic-Programming-and-Bayesian-Methods-for-Hackers). The other chapters can be found on the project's [homepage](https://camdavidsonpilon.github.io/Probabilistic-Programming-and-Bayesian-Methods-for-Hackers/). We hope you enjoy the book, and we encourage any contributions!\n",
        "___\n",
        "\n",
        "- [Dependencies & Prerequisites](#scrollTo=AIIO6GhdH89m)\n",
        "- [A little more on TFP](#scrollTo=24368dz9IAwM)\n",
        "  - [TFP Variables](#scrollTo=ZlGWIiPLIAwo)\n",
        "    - [Initializing Stochastic Variables](#scrollTo=NdKiqWtWIAwy)\n",
        "    - [Deterministic variables](#scrollTo=UPt9k8YrIAwz)\n",
        "  - [Combining with Tensorflow Core](#scrollTo=t_3wV3RwIAw9)\n",
        "  - [Including observations in the Model](#scrollTo=IMNdtRTtIAxB)\n",
        "- [Modeling approaches](#scrollTo=8oxo5VcbIAxP)\n",
        "  - [Same story; different ending](#scrollTo=3RJEK_yjIAxR)\n",
        "  - [Example: Bayesian A/B testing](#scrollTo=2lU8C4C-IAxw)\n",
        "  - [A Simple Case](#scrollTo=2lU8C4C-IAxw)\n",
        "    - [Execute the TF graph to sample from the posterior](#scrollTo=yUVnbqhDVfAx)\n",
        "  - [A and B together](#scrollTo=LdLJ2iriIAyI)\n",
        "    - [Execute the TF graph to sample from the posterior](#scrollTo=beUUmGMbdrRr)\n",
        "- [An algorithm for human deceit](#scrollTo=f-jxOi70IAyl)\n",
        "  - [The Binomial Distribution](#scrollTo=f-jxOi70IAyl)\n",
        "  - [Example: Cheating among students](#scrollTo=9HmW-50PIAyv)\n",
        "    - [Execute the TF graph to sample from the posterior](#scrollTo=eJYLS8EysHqj)\n",
        "  - [Alternative TFP Model](#scrollTo=Y0bK5tMAIAze)\n",
        "    - [Execute the TF graph to sample from the posterior](#scrollTo=eJYLS8EysHqj)\n",
        "  - [More TFP Tricks](#scrollTo=X3NKe5vUIAzv)\n",
        "  - [Example: Challenger Space Shuttle Disaster](#scrollTo=KMoiodMmIAzy)\n",
        "    - [Normal Distributions](#scrollTo=_52Ml-KhIAz9)\n",
        "      - [Execute the TF graph to sample from the posterior](#scrollTo=eNkhSXDkthRs)\n",
        "    - [What about the day of the Challenger disaster?](#scrollTo=lesq_3oIIA0Y)\n",
        "    - [Is our model appropriate?](#scrollTo=WjAFZ8W9IA0c)\n",
        "      - [Execute the TF graph to sample from the posterior](#scrollTo=_pKu5j76wxlY)\n",
        "  - [Exercises](#scrollTo=_I_3h7lsIA0v)\n",
        "  - [References](#scrollTo=e6RYS1_jIA0y)\n",
        "___\n",
        "\n",
        "This chapter introduces more TFP syntax and variables and ways to think about how to model a system from a Bayesian perspective. It also contains tips and data visualization techniques for assessing goodness-of-fit for your Bayesian model."
      ]
    },
    {
      "metadata": {
        "id": "AIIO6GhdH89m",
        "colab_type": "text"
      },
      "cell_type": "markdown",
      "source": [
        "### Dependencies & Prerequisites"
      ]
    },
    {
      "metadata": {
        "id": "hGNyp1JGbHii",
        "colab_type": "code",
        "outputId": "97173799-1faa-41b3-fe09-e69fc10bbfbb",
        "colab": {
          "base_uri": "https://localhost:8080/",
          "height": 35
        }
      },
      "cell_type": "code",
      "source": [
        "#@title Tensorflow Probability Installation (make sure to run this cell)  { display-mode: \"form\" }\n",
        "TFP_Installation = \"Stable TFP\" #@param [\"Most Recent TFP\", \"Stable TFP\", \"Stable TFP-GPU\", \"Most Recent TFP-GPU\", \"TFP Already Installed\"]\n",
        "\n",
        "if TFP_Installation == \"Most Recent TFP\":\n",
        "    !pip3 install -q tfp-nightly\n",
        "    print(\"Most recent TFP version installed\")\n",
        "elif TFP_Installation == \"Stable TFP\":\n",
        "    !pip3 install -q --upgrade tensorflow-probability\n",
        "    print(\"Up-to-date, stable  TFP version installed\")\n",
        "elif TFP_Installation == \"Stable TFP-GPU\":\n",
        "    !pip3 install -q --upgrade tensorflow-probability-gpu\n",
        "    print(\"Up-to-date, stable TFP-GPU version installed\")\n",
        "    print(\"(make sure GPU is properly configured)\")\n",
        "elif TFP_Installation == \"Most Recent TFP-GPU\":\n",
        "    !pip3 install -q tfp-nightly-gpu\n",
        "    print(\"Most recent TFP-GPU version installed\")\n",
        "    print(\"(make sure GPU is properly configured)\")\n",
        "elif TFP_Installation == \"TFP Already Installed\":\n",
        "    print(\"TFP already instaled in this environment\")\n",
        "    pass\n",
        "else:\n",
        "    print(\"Installation Error: Please select a viable TFP installation option.\")\n",
        "!pip3 install -q wget\n"
      ],
      "execution_count": 0,
      "outputs": [
        {
          "output_type": "stream",
          "text": [
            "Up-to-date, stable  TFP version installed\n"
          ],
          "name": "stdout"
        }
      ]
    },
    {
      "metadata": {
        "id": "jFKYjxy1IAwG",
        "colab_type": "code",
        "colab": {}
      },
      "cell_type": "code",
      "source": [
        "#@title Imports and Global Variables  { display-mode: \"form\" }\n",
        "\"\"\"\n",
        "The book uses a custom matplotlibrc file, which provides the unique styles for\n",
        "matplotlib plots. If executing this book, and you wish to use the book's\n",
        "styling, provided are two options:\n",
        "    1. Overwrite your own matplotlibrc file with the rc-file provided in the\n",
        "       book's styles/ dir. See http://matplotlib.org/users/customizing.html\n",
        "    2. Also in the styles is  bmh_matplotlibrc.json file. This can be used to\n",
        "       update the styles in only this notebook. Try running the following code:\n",
        "\n",
        "        import json\n",
        "        s = json.load(open(\"../styles/bmh_matplotlibrc.json\"))\n",
        "        matplotlib.rcParams.update(s)\n",
        "\"\"\"\n",
        "from __future__ import absolute_import, division, print_function\n",
        "\n",
        "warning_status = \"ignore\" #@param [\"ignore\", \"always\", \"module\", \"once\", \"default\", \"error\"]\n",
        "import warnings\n",
        "warnings.filterwarnings(warning_status)\n",
        "with warnings.catch_warnings():\n",
        "    warnings.filterwarnings(warning_status, category=DeprecationWarning)\n",
        "    warnings.filterwarnings(warning_status, category=UserWarning)\n",
        "\n",
        "import numpy as np\n",
        "import os\n",
        "matplotlib_style = 'fivethirtyeight' #@param ['fivethirtyeight', 'bmh', 'ggplot', 'seaborn', 'default', 'Solarize_Light2', 'classic', 'dark_background', 'seaborn-colorblind', 'seaborn-notebook']\n",
        "import matplotlib.pyplot as plt; plt.style.use(matplotlib_style)\n",
        "import matplotlib.axes as axes;\n",
        "from matplotlib.patches import Ellipse\n",
        "%matplotlib inline\n",
        "import seaborn as sns; sns.set_context('notebook')\n",
        "from IPython.core.pylabtools import figsize\n",
        "notebook_screen_res = 'png' #@param ['retina', 'png', 'jpeg', 'svg', 'pdf']\n",
        "%config InlineBackend.figure_format = notebook_screen_res\n",
        "\n",
        "import tensorflow as tf\n",
        "tfe = tf.contrib.eager\n",
        "\n",
        "# Eager Execution\n",
        "use_tf_eager = False #@param {type:\"boolean\"}\n",
        "\n",
        "# Use try/except so we can easily re-execute the whole notebook.\n",
        "if use_tf_eager:\n",
        "    try:\n",
        "        tf.enable_eager_execution()\n",
        "    except:\n",
        "        pass\n",
        "\n",
        "import tensorflow_probability as tfp\n",
        "tfd = tfp.distributions\n",
        "tfb = tfp.bijectors\n",
        "\n",
        "  \n",
        "def evaluate(tensors):\n",
        "    \"\"\"Evaluates Tensor or EagerTensor to Numpy `ndarray`s.\n",
        "    Args:\n",
        "    tensors: Object of `Tensor` or EagerTensor`s; can be `list`, `tuple`,\n",
        "        `namedtuple` or combinations thereof.\n",
        "\n",
        "    Returns:\n",
        "        ndarrays: Object with same structure as `tensors` except with `Tensor` or\n",
        "          `EagerTensor`s replaced by Numpy `ndarray`s.\n",
        "    \"\"\"\n",
        "    if tf.executing_eagerly():\n",
        "        return tf.contrib.framework.nest.pack_sequence_as(\n",
        "            tensors,\n",
        "            [t.numpy() if tf.contrib.framework.is_tensor(t) else t\n",
        "             for t in tf.contrib.framework.nest.flatten(tensors)])\n",
        "    return sess.run(tensors)\n",
        "\n",
        "class _TFColor(object):\n",
        "    \"\"\"Enum of colors used in TF docs.\"\"\"\n",
        "    red = '#F15854'\n",
        "    blue = '#5DA5DA'\n",
        "    orange = '#FAA43A'\n",
        "    green = '#60BD68'\n",
        "    pink = '#F17CB0'\n",
        "    brown = '#B2912F'\n",
        "    purple = '#B276B2'\n",
        "    yellow = '#DECF3F'\n",
        "    gray = '#4D4D4D'\n",
        "    def __getitem__(self, i):\n",
        "        return [\n",
        "            self.red,\n",
        "            self.orange,\n",
        "            self.green,\n",
        "            self.blue,\n",
        "            self.pink,\n",
        "            self.brown,\n",
        "            self.purple,\n",
        "            self.yellow,\n",
        "            self.gray,\n",
        "        ][i % 9]\n",
        "TFColor = _TFColor()\n",
        "\n",
        "def session_options(enable_gpu_ram_resizing=True, enable_xla=True):\n",
        "    \"\"\"\n",
        "    Allowing the notebook to make use of GPUs if they're available.\n",
        "    \n",
        "    XLA (Accelerated Linear Algebra) is a domain-specific compiler for linear \n",
        "    algebra that optimizes TensorFlow computations.\n",
        "    \"\"\"\n",
        "    config = tf.ConfigProto()\n",
        "    config.log_device_placement = True\n",
        "    if enable_gpu_ram_resizing:\n",
        "        # `allow_growth=True` makes it possible to connect multiple colabs to your\n",
        "        # GPU. Otherwise the colab malloc's all GPU ram.\n",
        "        config.gpu_options.allow_growth = True\n",
        "    if enable_xla:\n",
        "        # Enable on XLA. https://www.tensorflow.org/performance/xla/.\n",
        "        config.graph_options.optimizer_options.global_jit_level = (\n",
        "            tf.OptimizerOptions.ON_1)\n",
        "    return config\n",
        "\n",
        "\n",
        "def reset_sess(config=None):\n",
        "    \"\"\"\n",
        "    Convenience function to create the TF graph & session or reset them.\n",
        "    \"\"\"\n",
        "    if config is None:\n",
        "        config = session_options()\n",
        "    global sess\n",
        "    tf.reset_default_graph()\n",
        "    try:\n",
        "        sess.close()\n",
        "    except:\n",
        "        pass\n",
        "    sess = tf.InteractiveSession(config=config)\n",
        "\n",
        "reset_sess()"
      ],
      "execution_count": 0,
      "outputs": []
    },
    {
      "metadata": {
        "id": "24368dz9IAwM",
        "colab_type": "text"
      },
      "cell_type": "markdown",
      "source": [
        "## A little more on TensorFlow and TensorFlow Probability\n",
        "\n",
        "To explain TensorFlow Probability, it's worth going into the various methods of working with Tensorflow tensors. Here, we introduce the notion of Tensorflow graphs and how we can use certain coding patterns to make our tensor-processing workflows much faster and more elegant. "
      ]
    },
    {
      "metadata": {
        "id": "tOj8bjBmNuxm",
        "colab_type": "text"
      },
      "cell_type": "markdown",
      "source": [
        "### TensorFlow Graph and Eager Modes\n",
        "\n",
        "TFP accomplishes most of its heavy lifting via the main `tensorflow` library. The `tensorflow` library also contains many of the familiar computational elements of NumPy and uses similar notation. While NumPy directly executes computations (e.g. when you run `a + b`), `tensorflow` in graph mode instead builds up a \"compute graph\" that tracks that you want to perform the `+` operation on the elements `a` and `b`. Only when you evaluate a `tensorflow` expression  does the computation take place--`tensorflow` is lazy evaluated. The benefit of using Tensorflow over NumPy is that the graph enables mathematical optimizations (e.g. simplifications), gradient calculations via automatic differentiation, compiling the entire graph to C to run at machine speed, and also compiling it to run on a GPU or TPU. \n",
        "\n",
        "Fundamentally, TensorFlow uses [graphs](https://www.tensorflow.org/guide/graphs) for computation, wherein the graphs represent computation as dependencies among individual operations. In the programming paradigm for Tensorflow graphs, we first define the dataflow graph, and then create a TensorFlow session to run parts of the graph. A Tensorflow [`tf.Session()`](https://www.tensorflow.org/api_docs/python/tf/Session) object runs the graph to get the variables we want to model. In the example below, we are using a global session object `sess`, which we created above in the \"Imports and Global Variables\" section. \n",
        "\n",
        "To avoid the sometimes confusing aspects of lazy evaluation, Tensorflow's eager mode does immediate evaluation of results to give an even more similar feel to working with NumPy. With Tensorflow [eager](https://www.tensorflow.org/guide/eager) mode, you can evaluate operations immediately, without explicitly building graphs: operations return concrete values instead of constructing a computational graph to run later. If we're in eager mode, we are presented with tensors that can be converted to numpy array equivalents immediately. Eager mode makes it easy to get started with TensorFlow and debug models.\n",
        "\n",
        "\n",
        "TFP is essentially:\n",
        "\n",
        "* a collection of tensorflow symbolic expressions for various probability distributions that are combined into one big compute graph, and\n",
        "* a collection of inference algorithms that use that graph to compute probabilities and gradients.\n",
        "\n",
        "For practical purposes, what this means is that in order to build certain models we sometimes have to use core Tensorflow. This simple example for Poisson sampling is how we might work with both graph and eager modes:"
      ]
    },
    {
      "metadata": {
        "id": "CmiGas0kXiEw",
        "colab_type": "code",
        "outputId": "88bd55d1-d2d4-4015-b9fe-1c5b621b7aba",
        "colab": {
          "base_uri": "https://localhost:8080/",
          "height": 35
        }
      },
      "cell_type": "code",
      "source": [
        "parameter = tfd.Exponential(rate=1., name=\"poisson_param\").sample()\n",
        "data_generator = tfd.Poisson(parameter, name=\"data_generator\")\n",
        "data_generator_samples = data_generator.sample()\n",
        "\n",
        "if tf.executing_eagerly():\n",
        "    data_gen_samps_ = tf.contrib.framework.nest.pack_sequence_as(\n",
        "        data_generator_samples,\n",
        "        [t.numpy() if tf.contrib.framework.is_tensor(t) else t\n",
        "         for t in tf.contrib.framework.nest.flatten(data_generator_samples)])\n",
        "else:\n",
        "    data_gen_samps_ = sess.run(data_generator_samples)\n",
        "    \n",
        "print(\"Value of sample from data generator:\", data_gen_samps_)"
      ],
      "execution_count": 0,
      "outputs": [
        {
          "output_type": "stream",
          "text": [
            "Value of sample from data generator: 0.0\n"
          ],
          "name": "stdout"
        }
      ]
    },
    {
      "metadata": {
        "id": "9kArT4GTIAwT",
        "colab_type": "text"
      },
      "cell_type": "markdown",
      "source": [
        "In graph mode, Tensorflow will automatically assign any variables to a graph; they can then be evaluated in a session or made available in eager mode. If you try to define a variable when the session is already closed or in a finalized state, you will get an error. In the \"Imports and Global Variables\" section, we defined a particular type of session, called [`InteractiveSession`](https:///www.tensorflow.org/api_docs/python/tf/InteractiveSession). \n",
        "This defnition of a global `InteractiveSession` allows us to access our session variables interactively via a shell or notebook."
      ]
    },
    {
      "metadata": {
        "id": "4IEk40NbIAwX",
        "colab_type": "text"
      },
      "cell_type": "markdown",
      "source": [
        "Using the pattern of a global session, we can incrementally build a graph and run subsets of it to get the results.\n",
        "\n",
        "Eager execution further simplifies our code, eliminating the need to call session functions explicitly. In fact, if you try to run graph mode semantics in eager mode, you will get an error message like this:\n",
        "\n",
        "```\n",
        "AttributeError: Tensor.graph is meaningless when eager execution is enabled.\n",
        "```\n",
        "\n",
        "As mentioned in the previous chapter, we have a nifty tool that allows us to create code that's usable in both graph mode and eager mode. The custom `evaluate()` function allows us to evaluate tensors whether we are operating in TF graph or eager mode. The function looks like the following:\n",
        "\n",
        "```python\n",
        "\n",
        "def evaluate(tensors):\n",
        "    if tf.executing_eagerly():\n",
        "         return tf.contrib.framework.nest.pack_sequence_as(\n",
        "             tensors,\n",
        "             [t.numpy() if tf.contrib.framework.is_tensor(t) else t\n",
        "             for t in tf.contrib.framework.nest.flatten(tensors)])\n",
        "    with tf.Session() as sess:\n",
        "        return sess.run(tensors)\n",
        "\n",
        "```\n",
        "\n",
        "Each of the tensors corresponds to a NumPy-like output. To distinguish the tensors from their NumPy-like counterparts, we will use the convention of appending an underscore to the version of the tensor that one can use NumPy-like arrays on. In other words, the output of `evaluate()` gets named as `variable` + `_` = `variable_` . Now, we can do our Poisson sampling using both the `evaluate()` function and this new convention for naming Python variables in TFP."
      ]
    },
    {
      "metadata": {
        "id": "Bk-vyPB9IAwX",
        "colab_type": "code",
        "outputId": "ba3dfab6-3ed8-476f-b875-9d0b9417f0ec",
        "colab": {
          "base_uri": "https://localhost:8080/",
          "height": 53
        }
      },
      "cell_type": "code",
      "source": [
        "# Defining our Assumptions\n",
        "parameter = tfd.Exponential(rate=1., name=\"poisson_param\").sample()\n",
        "\n",
        "# Converting our TF to Numpy\n",
        "[ parameter_ ] = evaluate([ parameter ])\n",
        "\n",
        "print(\"Sample from exponential distribution before evaluation: \", parameter)\n",
        "print(\"Evaluated sample from exponential distribution: \", parameter_)"
      ],
      "execution_count": 0,
      "outputs": [
        {
          "output_type": "stream",
          "text": [
            "Sample from exponential distribution before evaluation:  Tensor(\"poisson_param_1/sample/Reshape:0\", shape=(), dtype=float32)\n",
            "Evaluated sample from exponential distribution:  3.3942702\n"
          ],
          "name": "stdout"
        }
      ]
    },
    {
      "metadata": {
        "id": "ZlGWIiPLIAwo",
        "colab_type": "text"
      },
      "cell_type": "markdown",
      "source": [
        "More generally, we can use our `evaluate()` function to convert between the Tensfflow `tensor` data type and one that we can run operations on:"
      ]
    },
    {
      "metadata": {
        "id": "1tzQmnsFIAwp",
        "colab_type": "code",
        "outputId": "9ef27d9e-92bf-42f4-d2b1-935b8083cba9",
        "colab": {
          "base_uri": "https://localhost:8080/",
          "height": 53
        }
      },
      "cell_type": "code",
      "source": [
        "[ \n",
        "    parameter_,\n",
        "    data_generator_sample_,\n",
        "] = evaluate([ \n",
        "    parameter, \n",
        "    data_generator.sample(),\n",
        "])\n",
        "\n",
        "print(\"'parameter_' evaluated Tensor :\", parameter_)\n",
        "print(\"'data_generator_' sample evaluated Tensor :\", data_generator_sample_)\n"
      ],
      "execution_count": 0,
      "outputs": [
        {
          "output_type": "stream",
          "text": [
            "'parameter_' evaluated Tensor : 4.2022924\n",
            "'data_generator_' sample evaluated Tensor : 1.0\n"
          ],
          "name": "stdout"
        }
      ]
    },
    {
      "metadata": {
        "id": "m0PLxpCIc--r",
        "colab_type": "text"
      },
      "cell_type": "markdown",
      "source": [
        "\n",
        "A general rule of thumb for programming in TensorFlow is that if you need to do any array-like calculations that would require NumPy functions, you should use their equivalents in TensorFlow. This practice is necessary because NumPy can produce only constant values but TensorFlow tensors are a dynamic part of the computation graph. If you mix and match these the wrong way, you will typically get an error about incompatible types."
      ]
    },
    {
      "metadata": {
        "id": "wqkS8vztNoyh",
        "colab_type": "text"
      },
      "cell_type": "markdown",
      "source": [
        "### TFP Distributions\n",
        "\n",
        "Let's look into how [`tfp.distributions`](https://www.tensorflow.org/probability/api_docs/python/tfp/distributions) work.\n",
        "\n",
        "TFP uses distribution subclasses to represent *stochastic*, random variables. A variable is stochastic when the following is true: even if you knew all the values of the variable's parameters and components, it would still be random. Included in this category are instances of classes [`Poisson`](https://www.tensorflow.org/probability/api_docs/python/tfp/distributions/Poisson), [`Uniform`](https://www.tensorflow.org/probability/api_docs/python/tfp/distributions/Uniform), and [`Exponential`](https://www.tensorflow.org/probability/api_docs/python/tfp/distributions/Exponential).\n",
        "\n",
        "You can draw random samples from a stochastic variable. When you draw samples, those samples become [`tensorflow.Tensors`](https://www.tensorflow.org/api_docs/python/tf/Tensor) that behave deterministically from that point on. A quick mental check to determine if something is *deterministic* is: *If I knew all of the inputs for creating the variable `foo`, I could calculate the value of `foo`.*  You can add, subtract, and otherwise manipulate the tensors in a variety of ways discussed below. These operations are almost always deterministic.\n"
      ]
    },
    {
      "metadata": {
        "id": "NdKiqWtWIAwy",
        "colab_type": "text"
      },
      "cell_type": "markdown",
      "source": [
        "#### Initializing a Distribution\n",
        "\n",
        "Initializing a stochastic, or random, variable requires a few class-specific parameters that describe the Distribution's shape, such as the location and scale. For example:\n",
        "\n",
        "```python\n",
        "some_distribution = tfd.Uniform(0., 4.)\n",
        "```\n",
        "\n",
        "initializes a stochastic, or random, [`Uniform`](https://www.tensorflow.org/probability/api_docs/python/tfp/distributions/Uniform) distribution with the lower bound at 0 and upper bound at 4. Calling `sample()` on the distribution returns a tensor that will behave deterministically from that point on:\n",
        "\n",
        "```python\n",
        "sampled_tensor = some_distribution.sample()\n",
        "```\n",
        "\n",
        "The next example demonstrates what we mean when we say that distributions are stochastic but tensors are deterministic:\n",
        "\n",
        "```\n",
        "derived_tensor_1 = 1 + sampled_tensor\n",
        "derived_tensor_2 = 1 + sampled_tensor  # equal to 1\n",
        "\n",
        "derived_tensor_3 = 1 + some_distribution.sample()\n",
        "derived_tensor_4 = 1 + some_distribution.sample()  # different from 3\n",
        "```\n",
        "\n",
        "The first two lines produce the same value because they refer to the same sampled tensor. The last two lines likely produce different values because they refer to independent samples drawn from the same distribution.\n",
        "\n",
        "To define a multiviariate distribution, just pass in arguments with the shape you want the output to be when creating the distribution. For example:\n",
        "\n",
        "```python\n",
        "betas = tfd.Uniform([0., 0.], [1., 1.])\n",
        "```\n",
        "\n",
        "Creates a Distribution with batch_shape (2,). Now, when you call betas.sample(),\n",
        "two values will be returned instead of one. You can read more about TFP shape semantics in the [TFP docs](https://github.com/tensorflow/probability/blob/master/tensorflow_probability/examples/jupyter_notebooks/Understanding_TensorFlow_Distributions_Shapes.ipynb), but most uses in this book should be self-explanatory."
      ]
    },
    {
      "metadata": {
        "id": "UPt9k8YrIAwz",
        "colab_type": "text"
      },
      "cell_type": "markdown",
      "source": [
        "#### Deterministic variables\n",
        "\n",
        "We can create a deterministic distribution similarly to how we create a stochastic distribution. We simply call up the [`Deterministic`](https://www.tensorflow.org/probability/api_docs/python/tfp/distributions/Deterministic) class from Tensorflow Distributions and pass in the deterministic value that we desire\n",
        "```python\n",
        "deterministic_variable = tfd.Deterministic(name=\"deterministic_variable\", loc=some_function_of_variables)\n",
        "```\n",
        "\n",
        "Calling `tfd.Deterministic` is useful for creating distributions that always have the same value. However, the much more common pattern for working with deterministic variables in TFP is to create a tensor or sample from a distribution:"
      ]
    },
    {
      "metadata": {
        "id": "feDM_HX6IAw0",
        "colab_type": "code",
        "colab": {}
      },
      "cell_type": "code",
      "source": [
        "lambda_1 = tfd.Exponential(rate=1., name=\"lambda_1\") #stochastic variable\n",
        "lambda_2 = tfd.Exponential(rate=1., name=\"lambda_2\") #stochastic variable\n",
        "tau = tfd.Uniform(name=\"tau\", low=0., high=10.) #stochastic variable\n",
        "\n",
        "# deterministic variable since we are getting results of lambda's after sampling    \n",
        "new_deterministic_variable = tfd.Deterministic(name=\"deterministic_variable\", \n",
        "                                               loc=(lambda_1.sample() + lambda_2.sample()))\n"
      ],
      "execution_count": 0,
      "outputs": []
    },
    {
      "metadata": {
        "id": "cRzLJmAJIAw3",
        "colab_type": "text"
      },
      "cell_type": "markdown",
      "source": [
        "The use of the deterministic variable was seen in the previous chapter's text-message example.  Recall the model for $\\lambda$ looked like: \n",
        "\n",
        "$$\n",
        "\\lambda = \n",
        "\\begin{cases}\\lambda_1  & \\text{if } t \\lt \\tau \\cr\n",
        "\\lambda_2 & \\text{if } t \\ge \\tau\n",
        "\\end{cases}\n",
        "$$\n",
        "\n",
        "And in TFP code:"
      ]
    },
    {
      "metadata": {
        "id": "IXdTQeqrIAw3",
        "colab_type": "code",
        "outputId": "8d6995d5-eaa9-4766-b315-b3ef9b9934c0",
        "colab": {
          "base_uri": "https://localhost:8080/",
          "height": 53
        }
      },
      "cell_type": "code",
      "source": [
        "n_data_points = 5  # in CH1 we had ~70 data points\n",
        "idx = np.arange(n_data_points)\n",
        "\n",
        "lambda_deterministic = tfd.Deterministic(tf.gather([lambda_1.sample(), lambda_2.sample()],\n",
        "                    indices=tf.to_int32(\n",
        "                        tau.sample() >= idx)))\n",
        "[lambda_deterministic_] = evaluate([lambda_deterministic.sample()])\n",
        "\n",
        "print(\"{} samples from our deterministic lambda model: \\n\".format(n_data_points), lambda_deterministic_ )"
      ],
      "execution_count": 0,
      "outputs": [
        {
          "output_type": "stream",
          "text": [
            "5 samples from our deterministic lambda model: \n",
            " [1.705 1.705 1.705 1.705 1.705]\n"
          ],
          "name": "stdout"
        }
      ]
    },
    {
      "metadata": {
        "id": "EFgJwLATIAw8",
        "colab_type": "text"
      },
      "cell_type": "markdown",
      "source": [
        "Clearly, if $\\tau, \\lambda_1$ and $\\lambda_2$ are known, then $\\lambda$ is known completely, hence it is a deterministic variable. We use indexing here to switch from $\\lambda_1$ to $\\lambda_2$ at the appropriate time. "
      ]
    },
    {
      "metadata": {
        "id": "IMNdtRTtIAxB",
        "colab_type": "text"
      },
      "cell_type": "markdown",
      "source": [
        "### Including observations in the model\n",
        "\n",
        "At this point, it may not look like it, but we have fully specified our priors. For example, we can ask and answer questions like \"What does my prior distribution of $\\lambda_1$ look like?\" \n",
        "\n",
        "To do this, we will sample from the distribution. The method `.sample()` has a very simple role: get data points from the given distribution. We can then evaluate the resulting tensor to get a NumPy array-like object. "
      ]
    },
    {
      "metadata": {
        "id": "VNdQVTSFIAxC",
        "colab_type": "code",
        "outputId": "6d9a3caf-2cb7-4c41-87dc-10df0519d403",
        "colab": {
          "base_uri": "https://localhost:8080/",
          "height": 337
        }
      },
      "cell_type": "code",
      "source": [
        "# Define our observed samples\n",
        "lambda_1 = tfd.Exponential(rate=1., name=\"lambda_1\")\n",
        "samples = lambda_1.sample(sample_shape=20000)\n",
        "    \n",
        "# Execute graph, convert TF to NumPy\n",
        "[ samples_ ] = evaluate([ samples ])\n",
        "\n",
        "# Visualize our stepwise prior distribution\n",
        "plt.figure(figsize(12.5, 5))\n",
        "plt.hist(samples_, bins=70, normed=True, histtype=\"stepfilled\")\n",
        "plt.title(r\"Prior distribution for $\\lambda_1$\")\n",
        "plt.xlim(0, 8);"
      ],
      "execution_count": 0,
      "outputs": [
        {
          "output_type": "display_data",
          "data": {
            "image/png": "[encoded data removed]",
            "text/plain": [
              "<matplotlib.figure.Figure at 0x7ff53d7df4e0>"
            ]
          },
          "metadata": {
            "tags": []
          }
        }
      ]
    },
    {
      "metadata": {
        "id": "9nOs9Gq3IAxH",
        "colab_type": "text"
      },
      "cell_type": "markdown",
      "source": [
        "To frame this in the notation of the first chapter, though this is a slight abuse of notation, we have specified $P(A)$. Our next goal is to include data/evidence/observations $X$ into our model. \n",
        "\n",
        "Sometimes we may want to match a property of our distribution to a property of observed data. To do so, we get the parameters for our distribution fom the data itself. In this example, the Poisson rate (average number of events) is explicitly set to one over the average of the data:"
      ]
    },
    {
      "metadata": {
        "id": "qtHXSR6QIAxH",
        "colab_type": "code",
        "outputId": "59fb1328-8f24-4e62-f268-802a4a5dbea9",
        "colab": {
          "base_uri": "https://localhost:8080/",
          "height": 143
        }
      },
      "cell_type": "code",
      "source": [
        "data = tf.constant([10., 5.], dtype=tf.float32)\n",
        "poisson = tfd.Poisson(rate=1./tf.reduce_mean(data))\n",
        "\n",
        "\n",
        "# Execute graph\n",
        "[ data_, poisson_sample_, ] = evaluate([ data, poisson.sample() ])\n",
        "\n",
        "print(\"two predetermined data points: \", data_)\n",
        "print(\"\\n mean of our data: \", np.mean(data_))\n",
        "\n",
        "\n",
        "print(\"\\n random sample from poisson distribution \\n with the mean as the poisson's rate: \\n\", poisson_sample_)"
      ],
      "execution_count": 0,
      "outputs": [
        {
          "output_type": "stream",
          "text": [
            "two predetermined data points:  [10.  5.]\n",
            "\n",
            " mean of our data:  7.5\n",
            "\n",
            " random sample from poisson distribution \n",
            " with the mean as the poisson's rate: \n",
            " 0.0\n"
          ],
          "name": "stdout"
        }
      ]
    },
    {
      "metadata": {
        "id": "8oxo5VcbIAxP",
        "colab_type": "text"
      },
      "cell_type": "markdown",
      "source": [
        "## Modeling approaches\n",
        "\n",
        "A good starting thought to Bayesian modeling is to think about *how your data might have been generated*. Position yourself in an omniscient position, and try to imagine how *you* would recreate the dataset. \n",
        "\n",
        "In the last chapter we investigated text message data. We begin by asking how our observations may have been generated:\n",
        "\n",
        "1.  We started by thinking \"what is the best random variable to describe this count data?\" A Poisson random variable is a good candidate because it can represent count data. So we model the number of sms's received as sampled from a Poisson distribution.\n",
        "\n",
        "2.  Next, we think, \"Ok, assuming sms's are Poisson-distributed, what do I need for the Poisson distribution?\" Well, the Poisson distribution has a parameter $\\lambda$. \n",
        "\n",
        "3.  Do we know $\\lambda$? No. In fact, we have a suspicion that there are *two* $\\lambda$ values, one for the earlier behaviour and one for the later behaviour. We don't know when the behaviour switches though, but call the switchpoint $\\tau$.\n",
        "\n",
        "4. What is a good distribution for the two $\\lambda$s? The exponential is good, as it assigns probabilities to positive real numbers. Well the exponential distribution has a parameter too, call it $\\alpha$.\n",
        "\n",
        "5.  Do we know what the parameter $\\alpha$ might be? No. At this point, we could continue and assign a distribution to $\\alpha$, but it's better to stop once we reach a set level of ignorance: whereas we have a prior belief about $\\lambda$, (\"it probably changes over time\", \"it's likely between 10 and 30\", etc.), we don't really have any strong beliefs about $\\alpha$. So it's best to stop here. \n",
        "\n",
        "    What is a good value for $\\alpha$ then? We think that the $\\lambda$s are between 10-30, so if we set $\\alpha$ really low (which corresponds to larger probability on high values) we are not reflecting our prior well. Similar, a too-high alpha misses our prior belief as well. A good idea for $\\alpha$ as to reflect our belief is to set the value so that the mean of $\\lambda$, given $\\alpha$, is equal to our observed mean. This was shown in the last chapter.\n",
        "\n",
        "6. We have no expert opinion of when $\\tau$ might have occurred. So we will suppose $\\tau$ is from a discrete uniform distribution over the entire timespan.\n",
        "\n",
        "\n",
        "Below we give a graphical visualization of this, where arrows denote `parent-child` relationships. (provided by the [Daft Python library](http://daft-pgm.org/) )\n",
        "\n",
        "<img src=\"http://i.imgur.com/7J30oCG.png\" width = 700/>\n",
        "\n",
        "\n",
        "TFP and other probabilistic programming languages have been designed to tell these data-generation *stories*. More generally, B. Cronin writes [2]:\n",
        "\n",
        "> Probabilistic programming will unlock narrative explanations of data, one of the holy grails of business analytics and the unsung hero of scientific persuasion. People think in terms of stories - thus the unreasonable power of the anecdote to drive decision-making, well-founded or not. But existing analytics largely fails to provide this kind of story; instead, numbers seemingly appear out of thin air, with little of the causal context that humans prefer when weighing their options."
      ]
    },
    {
      "metadata": {
        "id": "3RJEK_yjIAxR",
        "colab_type": "text"
      },
      "cell_type": "markdown",
      "source": [
        "### Same story; different ending.\n",
        "\n",
        "Interestingly, we can create *new datasets* by retelling the story.\n",
        "For example, if we reverse the above steps, we can simulate a possible realization of the dataset.\n",
        "\n",
        "1\\. Specify when the user's behaviour switches by sampling from $\\text{DiscreteUniform}(0, 80)$:"
      ]
    },
    {
      "metadata": {
        "id": "Ma56S7r1IAxS",
        "colab_type": "code",
        "outputId": "0fed2c28-1e3e-4944-d0e6-a6b3b19c94e9",
        "colab": {
          "base_uri": "https://localhost:8080/",
          "height": 35
        }
      },
      "cell_type": "code",
      "source": [
        "tau = tf.random_uniform(shape=[1], minval=0, maxval=80, dtype=tf.int32)[0]\n",
        "\n",
        "[ tau_ ] = evaluate([ tau ])\n",
        "\n",
        "print(\"Value of Tau (randomly taken from DiscreteUniform(0, 80)):\", tau_)"
      ],
      "execution_count": 0,
      "outputs": [
        {
          "output_type": "stream",
          "text": [
            "Value of Tau (randomly taken from DiscreteUniform(0, 80)): 44\n"
          ],
          "name": "stdout"
        }
      ]
    },
    {
      "metadata": {
        "id": "Xt_6sYG6IAxW",
        "colab_type": "text"
      },
      "cell_type": "markdown",
      "source": [
        "2\\. Draw $\\lambda_1$ and $\\lambda_2$ from a $\\text{Gamma}(\\alpha)$ distribution:\n",
        "\n",
        "Note: A gamma distribution is a generalization of the exponential distribution. A gamma distribution with shape parameter $α = 1$ and scale parameter $β$ is an  exponential ($β$) distribution. Here, we use a gamma distribution to have more flexibility than we would have had were we to model with an exponential. Rather than returning values between $0$ and $1$, we can return values much larger than $1$ (i.e., the kinds of numbers one would expect to show up in a daily SMS count)."
      ]
    },
    {
      "metadata": {
        "id": "l2QX3nEbofZr",
        "colab_type": "code",
        "outputId": "b52f35f2-72fe-4ad0-8c0b-028a35d9bb6d",
        "colab": {
          "base_uri": "https://localhost:8080/",
          "height": 53
        }
      },
      "cell_type": "code",
      "source": [
        "alpha = 1./8.\n",
        "\n",
        "lambdas  = tfd.Gamma(concentration=1/alpha, rate=0.3).sample(sample_shape=[2])  \n",
        "[ lambda_1_, lambda_2_ ] = evaluate( lambdas )\n",
        "print(\"Lambda 1 (randomly taken from Gamma(α) distribution): \", lambda_1_)\n",
        "print(\"Lambda 2 (randomly taken from Gamma(α) distribution): \", lambda_2_)"
      ],
      "execution_count": 0,
      "outputs": [
        {
          "output_type": "stream",
          "text": [
            "Lambda 1 (randomly taken from Gamma(α) distribution):  17.011105\n",
            "Lambda 2 (randomly taken from Gamma(α) distribution):  46.05179\n"
          ],
          "name": "stdout"
        }
      ]
    },
    {
      "metadata": {
        "id": "uIoKaO4bIAxb",
        "colab_type": "text"
      },
      "cell_type": "markdown",
      "source": [
        "3\\.  For days before $\\tau$, represent the user's received SMS count by sampling from $\\text{Poi}(\\lambda_1)$, and sample from  $\\text{Poi}(\\lambda_2)$ for days after $\\tau$. For example:"
      ]
    },
    {
      "metadata": {
        "id": "6xxOtwxvpk_P",
        "colab_type": "code",
        "outputId": "d6e1e049-f992-4cf0-fcf6-b49501e65b6d",
        "colab": {
          "base_uri": "https://localhost:8080/",
          "height": 125
        }
      },
      "cell_type": "code",
      "source": [
        "data = tf.concat([tfd.Poisson(rate=lambda_1_).sample(sample_shape=tau_),\n",
        "                      tfd.Poisson(rate=lambda_2_).sample(sample_shape= (80 - tau_))], axis=0)\n",
        "days_range = tf.range(80)\n",
        "[ data_, days_range_ ] = evaluate([ data, days_range ])\n",
        "print(\"Artificial day-by-day user SMS count created by sampling: \\n\", data_)"
      ],
      "execution_count": 0,
      "outputs": [
        {
          "output_type": "stream",
          "text": [
            "Artificial day-by-day user SMS count created by sampling: \n",
            " [20. 17. 16. 13. 22. 17. 13. 18. 22. 15. 27. 19. 13. 15. 14. 14. 15. 30.\n",
            " 16. 18. 21. 22. 13. 17. 18. 22.  7. 20. 17. 21. 16. 13. 24. 20. 25. 20.\n",
            " 13. 19. 21. 16. 19. 10. 23.  7. 54. 44. 46. 49. 36. 50. 44. 45. 51. 44.\n",
            " 44. 55. 41. 33. 51. 60. 52. 48. 50. 47. 42. 47. 40. 47. 49. 46. 44. 39.\n",
            " 45. 40. 51. 41. 52. 33. 40. 57.]\n"
          ],
          "name": "stdout"
        }
      ]
    },
    {
      "metadata": {
        "id": "5PWuas1oIAxg",
        "colab_type": "text"
      },
      "cell_type": "markdown",
      "source": [
        "4\\. Plot the artificial dataset:"
      ]
    },
    {
      "metadata": {
        "id": "vrGXdyZyIAxh",
        "colab_type": "code",
        "outputId": "9c7671d3-64a1-443a-c19a-f8df3f4deb29",
        "colab": {
          "base_uri": "https://localhost:8080/",
          "height": 349
        }
      },
      "cell_type": "code",
      "source": [
        "plt.bar(days_range_, data_, color=TFColor[3])\n",
        "plt.bar(tau_ - 1, data_[tau_ - 1], color=\"r\", label=\"user behaviour changed\")\n",
        "plt.xlabel(\"Time (days)\")\n",
        "plt.ylabel(\"count of text-msgs received\")\n",
        "plt.title(\"Artificial dataset\")\n",
        "plt.xlim(0, 80)\n",
        "plt.legend();"
      ],
      "execution_count": 0,
      "outputs": [
        {
          "output_type": "display_data",
          "data": {
            "image/png": "[encoded data removed]",
            "text/plain": [
              "<matplotlib.figure.Figure at 0x7ff554f8ebe0>"
            ]
          },
          "metadata": {
            "tags": []
          }
        }
      ]
    },
    {
      "metadata": {
        "id": "ulb46iQIIAxn",
        "colab_type": "text"
      },
      "cell_type": "markdown",
      "source": [
        "It is okay that our fictional dataset does not look like our observed dataset: the probability is incredibly small it indeed would. TFP's engine is designed to find good parameters, $\\lambda_i, \\tau$, that maximize this probability.  \n",
        "\n",
        "\n",
        "The ability to generate an artificial dataset is an interesting side effect of our modeling, and we will see that this ability is a very important method of Bayesian inference. We produce a few more datasets below:"
      ]
    },
    {
      "metadata": {
        "id": "vrLFYvVzIAxp",
        "colab_type": "code",
        "outputId": "f3b6ab78-2f09-4ad4-cd77-f73b99ae4fc6",
        "colab": {
          "base_uri": "https://localhost:8080/",
          "height": 321
        }
      },
      "cell_type": "code",
      "source": [
        "def plot_artificial_sms_dataset():   \n",
        "    tau = tf.random_uniform(shape=[1], \n",
        "                            minval=0, \n",
        "                            maxval=80,\n",
        "                            dtype=tf.int32)[0]\n",
        "    alpha = 1./8.\n",
        "    lambdas  = tfd.Gamma(concentration=1/alpha, rate=0.3).sample(sample_shape=[2]) \n",
        "    [ lambda_1_, lambda_2_ ] = evaluate( lambdas )\n",
        "    data = tf.concat([tfd.Poisson(rate=lambda_1_).sample(sample_shape=tau),\n",
        "                      tfd.Poisson(rate=lambda_2_).sample(sample_shape= (80 - tau))], axis=0)\n",
        "    days_range = tf.range(80)\n",
        "    \n",
        "    [ \n",
        "        tau_,\n",
        "        data_,\n",
        "        days_range_,\n",
        "    ] = evaluate([ \n",
        "        tau,\n",
        "        data,\n",
        "        days_range,\n",
        "    ])\n",
        "    \n",
        "    plt.bar(days_range_, data_, color=TFColor[3])\n",
        "    plt.bar(tau_ - 1, data_[tau_ - 1], color=\"r\", label=\"user behaviour changed\")\n",
        "    plt.xlim(0, 80);\n",
        "\n",
        "\n",
        "plt.figure(figsize(12.5, 5))\n",
        "plt.title(\"More example of artificial datasets\")\n",
        "for i in range(4):\n",
        "    plt.subplot(4, 1, i+1)\n",
        "    plot_artificial_sms_dataset()\n"
      ],
      "execution_count": 0,
      "outputs": [
        {
          "output_type": "display_data",
          "data": {
            "image/png": "[encoded data removed]",
            "text/plain": [
              "<matplotlib.figure.Figure at 0x7ff53f56f390>"
            ]
          },
          "metadata": {
            "tags": []
          }
        }
      ]
    },
    {
      "metadata": {
        "id": "V8QMiJXOIAxv",
        "colab_type": "text"
      },
      "cell_type": "markdown",
      "source": [
        "Later we will see how we use this to make predictions and test the appropriateness of our models."
      ]
    },
    {
      "metadata": {
        "id": "2lU8C4C-IAxw",
        "colab_type": "text"
      },
      "cell_type": "markdown",
      "source": [
        "### Example: Bayesian A/B testing\n",
        "\n",
        "A/B testing is a statistical design pattern for determining the difference of effectiveness between two different treatments. For example, a pharmaceutical company is interested in the effectiveness of drug A vs drug B. The company will test drug A on some fraction of their trials, and drug B on the other fraction (this fraction is often 1/2, but we will relax this assumption). After performing enough trials, the in-house statisticians sift through the data to determine which drug yielded better results. \n",
        "\n",
        "Similarly, front-end web developers are interested in which design of their website yields more sales or some other metric of interest. They will route some fraction of visitors to site A, and the other fraction to site B, and record if the visit yielded a sale or not. The data is recorded (in real-time), and analyzed afterwards. \n",
        "\n",
        "Often, the post-experiment analysis is done using something called a hypothesis test like *difference of means test* or *difference of proportions test*. This involves often misunderstood quantities like a \"Z-score\" and even more confusing \"p-values\" (please don't ask). If you have taken a statistics course, you have probably been taught this technique (though not necessarily *learned* this technique). And if you were like me, you may have felt uncomfortable with their derivation -- good: the Bayesian approach to this problem is much more natural. \n"
      ]
    },
    {
      "metadata": {
        "id": "AFcmkQEyDgyK",
        "colab_type": "text"
      },
      "cell_type": "markdown",
      "source": [
        "### A Simple Case\n",
        "\n",
        "As this is a hacker book, we'll continue with the web-dev example. For the moment, we will focus on the analysis of site A only. Assume that there is some true $0 \\lt p_A \\lt 1$ probability that users who, upon shown site A, eventually purchase from the site. This is the true effectiveness of site A. Currently, this quantity is unknown to us. \n",
        "\n",
        "Suppose site A was shown to $N$ people, and $n$ people purchased from the site. One might conclude hastily that $p_A = \\frac{n}{N}$. Unfortunately, the *observed frequency* $\\frac{n}{N}$ does not necessarily equal $p_A$ -- there is a difference between the *observed frequency* and the *true frequency* of an event. The true frequency can be interpreted as the probability of an event occurring. For example, the true frequency of rolling a 1 on a 6-sided die is $\\frac{1}{6}$. Knowing the true frequency of events like:\n",
        "\n",
        "- fraction of users who make purchases, \n",
        "- frequency of social attributes, \n",
        "- percent of internet users with cats etc. \n",
        "\n",
        "are common requests we ask of Nature. Unfortunately, often Nature hides the true frequency from us and we must *infer* it from observed data.\n",
        "\n",
        "The *observed frequency* is then the frequency we observe: say rolling the die 100 times you may observe 20 rolls of 1. The observed frequency, 0.2, differs from the true frequency, $\\frac{1}{6}$. We can use Bayesian statistics to infer probable values of the true frequency using an appropriate prior and observed data.\n",
        "\n",
        "\n",
        "With respect to our A/B example, we are interested in using what we know, $N$ (the total trials administered) and $n$ (the number of conversions), to estimate what $p_A$, the true frequency of buyers, might be. \n",
        "\n",
        "To setup a Bayesian model, we need to assign prior distributions to our unknown quantities. *A priori*, what do we think $p_A$ might be? For this example, we have no strong conviction about $p_A$, so for now, let's assume $p_A$ is uniform over [0,1]:"
      ]
    },
    {
      "metadata": {
        "id": "blTLKyo2IAxy",
        "colab_type": "code",
        "colab": {}
      },
      "cell_type": "code",
      "source": [
        "reset_sess()\n",
        "\n",
        "# The parameters are the bounds of the Uniform.\n",
        "p = tfd.Uniform(low=0., high=1., name='p')\n"
      ],
      "execution_count": 0,
      "outputs": []
    },
    {
      "metadata": {
        "id": "f0XLF9h3IAx2",
        "colab_type": "text"
      },
      "cell_type": "markdown",
      "source": [
        "Had we had stronger beliefs, we could have expressed them in the prior above.\n",
        "\n",
        "For this example, consider $p_A = 0.05$, and $N = 1500$ users shown site A, and we will simulate whether the user made a purchase or not. To simulate this from $N$ trials, we will use a *Bernoulli* distribution: if  $X\\ \\sim \\text{Ber}(p)$, then $X$ is 1 with probability $p$ and 0 with probability $1 - p$. Of course, in practice we do not know $p_A$, but we will use it here to simulate the data. We can assume then that we can use the following generative model:\n",
        "\n",
        "$$\\begin{align*}\n",
        "p &\\sim \\text{Uniform}[\\text{low}=0,\\text{high}=1) \\\\\n",
        "X\\ &\\sim \\text{Bernoulli}(\\text{prob}=p) \\\\\n",
        "\\text{for }  i &= 1\\ldots N:\\text{# Users}  \\\\\n",
        " X_i\\ &\\sim \\text{Bernoulli}(p_i)\n",
        "\\end{align*}$$"
      ]
    },
    {
      "metadata": {
        "id": "riLrk5KTIAx4",
        "colab_type": "code",
        "outputId": "12a3da82-f62b-4046-f836-80774b16ae08",
        "colab": {
          "base_uri": "https://localhost:8080/",
          "height": 71
        }
      },
      "cell_type": "code",
      "source": [
        "reset_sess()\n",
        "\n",
        "#set constants\n",
        "prob_true = 0.05  # remember, this is unknown.\n",
        "N = 1500\n",
        "\n",
        "# sample N Bernoulli random variables from Ber(0.05).\n",
        "# each random variable has a 0.05 chance of being a 1.\n",
        "# this is the data-generation step\n",
        "\n",
        "occurrences = tfd.Bernoulli(probs=prob_true).sample(sample_shape=N, seed=6.45)\n",
        "\n",
        "[ \n",
        "    occurrences_,\n",
        "    occurrences_sum_,\n",
        "    occurrences_mean_,\n",
        "] = evaluate([ \n",
        "    occurrences, \n",
        "    tf.reduce_sum(occurrences),\n",
        "    tf.reduce_mean(tf.to_float(occurrences))\n",
        "])\n",
        "\n",
        "print(\"Array of {} Occurences:\".format(N), occurrences_) \n",
        "print(\"(Remember: Python treats True == 1, and False == 0)\")\n",
        "print(\"Sum of (True == 1) Occurences:\", occurrences_sum_)"
      ],
      "execution_count": 0,
      "outputs": [
        {
          "output_type": "stream",
          "text": [
            "Array of 1500 Occurences: [0 0 0 ... 0 0 0]\n",
            "(Remember: Python treats True == 1, and False == 0)\n",
            "Sum of (True == 1) Occurences: 76\n"
          ],
          "name": "stdout"
        }
      ]
    },
    {
      "metadata": {
        "id": "UpJrMifMIAx7",
        "colab_type": "text"
      },
      "cell_type": "markdown",
      "source": [
        "The observed frequency is:"
      ]
    },
    {
      "metadata": {
        "id": "trjtemdNIAx7",
        "colab_type": "code",
        "outputId": "1410a14b-1f60-405d-99a2-9ffbbcd6deff",
        "colab": {
          "base_uri": "https://localhost:8080/",
          "height": 53
        }
      },
      "cell_type": "code",
      "source": [
        "# Occurrences.mean is equal to n/N.\n",
        "print(\"What is the observed frequency in Group A? %.4f\" % occurrences_mean_)\n",
        "print(\"Does this equal the true frequency? %s\" % (occurrences_mean_ == prob_true))"
      ],
      "execution_count": 0,
      "outputs": [
        {
          "output_type": "stream",
          "text": [
            "What is the observed frequency in Group A? 0.0507\n",
            "Does this equal the true frequency? False\n"
          ],
          "name": "stdout"
        }
      ]
    },
    {
      "metadata": {
        "id": "Gue-SRTYIAyA",
        "colab_type": "text"
      },
      "cell_type": "markdown",
      "source": [
        "We combine our Bernoulli distribution and our observed occurrences into a log probability function based on the two."
      ]
    },
    {
      "metadata": {
        "id": "Ct9o0w7lGaZb",
        "colab_type": "code",
        "colab": {}
      },
      "cell_type": "code",
      "source": [
        "def joint_log_prob(occurrences, prob_A):\n",
        "    \"\"\"\n",
        "    Joint log probability optimization function.\n",
        "        \n",
        "    Args:\n",
        "      occurrences: An array of binary values (0 & 1), representing \n",
        "                   the observed frequency\n",
        "      prob_A: scalar estimate of the probability of a 1 appearing \n",
        "    Returns: \n",
        "      Joint log probability optimization function.\n",
        "    \"\"\"  \n",
        "    \n",
        "    rv_prob_A = tfd.Uniform(low=0., high=1.)\n",
        "  \n",
        "    rv_occurrences = tfd.Bernoulli(probs=prob_A)\n",
        "  \n",
        "    return (\n",
        "        rv_prob_A.log_prob(prob_A)\n",
        "        + tf.reduce_sum(rv_occurrences.log_prob(occurrences_))\n",
        "    )"
      ],
      "execution_count": 0,
      "outputs": []
    },
    {
      "metadata": {
        "id": "UN7Mh5U-uFye",
        "colab_type": "text"
      },
      "cell_type": "markdown",
      "source": [
        "The goal of probabilistic inference is to find model parameters that may explain\n",
        "data you have observed. TFP performs probabilistic inference by evaluating the\n",
        "model parameters using a `joint_log_prob` function.  The arguments to `joint_log_prob` are data and model parameters—for the model defined in the `joint_log_prob` function itself. The function returns the log of the joint probability that the model parameterized as such generated the observed data per the input arguments.\n",
        "\n",
        "All `joint_log_prob` functions have a common structure:\n",
        "\n",
        "1. The function takes a set of **inputs** to evaluate. Each input is either an\n",
        "observed value or a model parameter.\n",
        "\n",
        "1. The `joint_log_prob` function uses probability distributions to define a **model** for evaluating the inputs. These distributions measure the likelihood of the input values. (By convention, the distribution that measures the likelihood of the variable `foo` will be named `rv_foo` to note that it is a random variable.) We use two types of distributions in `joint_log_prob` functions:\n",
        "\n",
        "  a. **Prior distributions** measure the likelihood of input values.\n",
        "A prior distribution never depends on an input value each prior distribution measures the\n",
        "likelihood of a single input value. Each unknown variable—one that has not been\n",
        "observed directly—needs a corresponding prior. Beliefs about which values could\n",
        "be reasonable determine the prior distribution. Choosing a prior can be tricky,\n",
        "so we will cover it in depth in Chapter 6.\n",
        "\n",
        "  b. **Conditional distributions** measure the likelihood of an input value given\n",
        "other input values. Typically, the conditional\n",
        "distributions return the likelihood of observed data given the current guess of parameters in the model, p(observed_data | model_parameters).\n",
        "\n",
        "1. Finally, we calculate and return the **joint log probability** of the inputs.\n",
        "The joint log probability is the sum of the log probabilities from all of the\n",
        "prior and conditional distributions. (We take the sum of log probabilities\n",
        "instead of multiplying the probabilities directly for reasons of numerical\n",
        "stability: floating point numbers in computers cannot represent the very small\n",
        "values necessary to calculate the joint log probability unless they are in \n",
        "log space.) The sum of probabilities is actually an unnormalized density; although the total sum of probabilities  over all possible inputs might not sum to one, the sum of probabilities is proportional to the true probability density. This proportional distribution is sufficient to estimate the distribution of likely inputs.\n",
        "\n",
        "Let's map these terms onto the code above. In this example, the input values\n",
        "are the observed values in `occurrences` and the unknown value for `prob_A`. The `joint_log_prob` takes the current guess for `prob_A`\n",
        "and answers, how likely is the data if `prob_A` is the probability of\n",
        "`occurrences`. The answer depends on two distributions:\n",
        "1. The prior distribution, `rv_prob_A`, indicates how likely the current value of `prob_A` is by itself.\n",
        "2. The conditional distribution, `rv_occurrences`, indicates the likelihood of `occurrences` if `prob_A` were the  probability for the Bernoulli distribution.\n",
        "\n",
        "The sum of the log of these probabilities is the\n",
        "joint log probability. \n",
        "\n",
        "The `joint_log_prob` is particularly useful in conjunction with the [`tfp.mcmc`](https://www.tensorflow.org/probability/api_docs/python/tfp/mcmc)\n",
        "module. Markov chain Monte Carlo (MCMC) algorithms proceed by making educated guesses about the unknown\n",
        "input values and\n",
        "computing what the likelihood of this set of arguments is. (We’ll talk about how it makes those guesses in Chapter 3.) By repeating this process\n",
        "many times, MCMC builds a distribution of likely parameters. Constructing this\n",
        "distribution is the goal of probabilistic inference."
      ]
    },
    {
      "metadata": {
        "id": "rzm3amOgDAGg",
        "colab_type": "text"
      },
      "cell_type": "markdown",
      "source": [
        "Then we run our inference algorithm:"
      ]
    },
    {
      "metadata": {
        "id": "g9XHX0h8IAyB",
        "colab_type": "code",
        "colab": {}
      },
      "cell_type": "code",
      "source": [
        "number_of_steps = 18000\n",
        "burnin = 1000\n",
        "\n",
        "# Set the chain's start state.\n",
        "initial_chain_state = [\n",
        "    tf.reduce_mean(tf.to_float(occurrences)) * tf.ones([], dtype=tf.float32, name=\"init_prob_A\")\n",
        "]\n",
        "\n",
        "# Since HMC operates over unconstrained space, we need to transform the\n",
        "# samples so they live in real-space.\n",
        "unconstraining_bijectors = [\n",
        "    tfp.bijectors.Identity()   # Maps R to R.  \n",
        "]\n",
        "\n",
        "# Define a closure over our joint_log_prob.\n",
        "# The closure makes it so the HMC doesn't try to change the `occurrences` but\n",
        "# instead determines the distributions of other parameters that might generate\n",
        "# the `occurrences` we observed.\n",
        "unnormalized_posterior_log_prob = lambda *args: joint_log_prob(occurrences, *args)\n",
        "\n",
        "# Initialize the step_size. (It will be automatically adapted.)\n",
        "with tf.variable_scope(tf.get_variable_scope(), reuse=tf.AUTO_REUSE):\n",
        "    step_size = tf.get_variable(\n",
        "        name='step_size',\n",
        "        initializer=tf.constant(0.5, dtype=tf.float32),\n",
        "        trainable=False,\n",
        "        use_resource=True\n",
        "    )\n",
        "\n",
        "# Defining the HMC\n",
        "hmc = tfp.mcmc.TransformedTransitionKernel(\n",
        "    inner_kernel=tfp.mcmc.HamiltonianMonteCarlo(\n",
        "        target_log_prob_fn=unnormalized_posterior_log_prob,\n",
        "        num_leapfrog_steps=6,\n",
        "        step_size=step_size,\n",
        "        step_size_update_fn=tfp.mcmc.make_simple_step_size_update_policy(),\n",
        "        state_gradients_are_stopped=True),\n",
        "    bijector=unconstraining_bijectors)\n",
        "\n",
        "# Sampling from the chain.\n",
        "[\n",
        "    posterior_prob_A\n",
        "], kernel_results = tfp.mcmc.sample_chain(\n",
        "    num_results=number_of_steps,\n",
        "    num_burnin_steps=burnin,\n",
        "    current_state=initial_chain_state,\n",
        "    kernel=hmc)\n",
        "\n",
        "# Initialize any created variables.\n",
        "init_g = tf.global_variables_initializer()\n",
        "init_l = tf.local_variables_initializer()"
      ],
      "execution_count": 0,
      "outputs": []
    },
    {
      "metadata": {
        "id": "yUVnbqhDVfAx",
        "colab_type": "text"
      },
      "cell_type": "markdown",
      "source": [
        "#### Execute the TF graph to sample from the posterior"
      ]
    },
    {
      "metadata": {
        "id": "Q3By4GWdEtQN",
        "colab_type": "code",
        "outputId": "604519dd-3d3c-465e-9a9c-a69cb36356c6",
        "colab": {
          "base_uri": "https://localhost:8080/",
          "height": 35
        }
      },
      "cell_type": "code",
      "source": [
        "evaluate(init_g)\n",
        "evaluate(init_l)\n",
        "[\n",
        "    posterior_prob_A_,\n",
        "    kernel_results_,\n",
        "] = evaluate([\n",
        "    posterior_prob_A,\n",
        "    kernel_results,\n",
        "])\n",
        "\n",
        "    \n",
        "print(\"acceptance rate: {}\".format(\n",
        "    kernel_results_.inner_results.is_accepted.mean()))\n",
        "\n",
        "burned_prob_A_trace_ = posterior_prob_A_[burnin:]"
      ],
      "execution_count": 0,
      "outputs": [
        {
          "output_type": "stream",
          "text": [
            "acceptance rate: 0.5849444444444445\n"
          ],
          "name": "stdout"
        }
      ]
    },
    {
      "metadata": {
        "id": "MQUWTY7-LgGv",
        "colab_type": "text"
      },
      "cell_type": "markdown",
      "source": [
        "We plot the posterior distribution of the unknown $p_A$ below:"
      ]
    },
    {
      "metadata": {
        "id": "w_P52-CRFJPs",
        "colab_type": "code",
        "outputId": "8ac7a41b-67c9-4160-fab6-baed4e6faea3",
        "colab": {
          "base_uri": "https://localhost:8080/",
          "height": 282
        }
      },
      "cell_type": "code",
      "source": [
        "plt.figure(figsize(12.5, 4))\n",
        "plt.title(\"Posterior distribution of $p_A$, the true effectiveness of site A\")\n",
        "plt.vlines(prob_true, 0, 90, linestyle=\"--\", label=\"true $p_A$ (unknown)\")\n",
        "plt.hist(burned_prob_A_trace_, bins=25, histtype=\"stepfilled\", normed=True)\n",
        "plt.legend();"
      ],
      "execution_count": 0,
      "outputs": [
        {
          "output_type": "display_data",
          "data": {
            "image/png": "[encoded data removed]",
            "text/plain": [
              "<matplotlib.figure.Figure at 0x7ff559301438>"
            ]
          },
          "metadata": {
            "tags": []
          }
        }
      ]
    },
    {
      "metadata": {
        "id": "LdLJ2iriIAyI",
        "colab_type": "text"
      },
      "cell_type": "markdown",
      "source": [
        "Our posterior distribution puts most weight near the true value of $p_A$, but also some weights in the tails. This is a measure of how uncertain we should be, given our observations. Try changing the number of observations, `N`, and observe how the posterior distribution changes.\n",
        "\n",
        "### *A* and *B* Together\n",
        "\n",
        "A similar anaylsis can be done for site B's response data to determine the analogous $p_B$. But what we are really interested in is the *difference* between $p_A$ and $p_B$. Let's infer $p_A$, $p_B$, *and* $\\text{delta} = p_A - p_B$, all at once. We can do this using TFP's deterministic variables. (We'll assume for this exercise that $p_B = 0.04$, so $\\text{delta} = 0.01$, $N_B = 750$ (signifcantly less than $N_A$) and we will simulate site B's data like we did for site A's data ). Our model now looks like the following:\n",
        "\n",
        "$$\\begin{align*}\n",
        "p_A &\\sim \\text{Uniform}[\\text{low}=0,\\text{high}=1) \\\\\n",
        "p_B &\\sim \\text{Uniform}[\\text{low}=0,\\text{high}=1) \\\\\n",
        "X\\ &\\sim \\text{Bernoulli}(\\text{prob}=p) \\\\\n",
        "\\text{for }  i &= 1\\ldots N: \\\\\n",
        " X_i\\ &\\sim \\text{Bernoulli}(p_i)\n",
        "\\end{align*}$$"
      ]
    },
    {
      "metadata": {
        "id": "yPDLHl6RIAyJ",
        "colab_type": "code",
        "outputId": "056de4aa-1e32-41a0-992b-52c5e5491ecc",
        "colab": {
          "base_uri": "https://localhost:8080/",
          "height": 89
        }
      },
      "cell_type": "code",
      "source": [
        "reset_sess()\n",
        "\n",
        "#these two quantities are unknown to us.\n",
        "true_prob_A_ = 0.05\n",
        "true_prob_B_ = 0.04\n",
        "\n",
        "#notice the unequal sample sizes -- no problem in Bayesian analysis.\n",
        "N_A_ = 1500\n",
        "N_B_ = 750\n",
        "\n",
        "#generate some observations\n",
        "observations_A = tfd.Bernoulli(name=\"obs_A\", \n",
        "                          probs=true_prob_A_).sample(sample_shape=N_A_, seed=6.45)\n",
        "observations_B = tfd.Bernoulli(name=\"obs_B\", \n",
        "                          probs=true_prob_B_).sample(sample_shape=N_B_, seed=6.45)\n",
        "[ \n",
        "    observations_A_,\n",
        "    observations_B_,\n",
        "] = evaluate([ \n",
        "    observations_A, \n",
        "    observations_B, \n",
        "])\n",
        "\n",
        "print(\"Obs from Site A: \", observations_A_[:30], \"...\")\n",
        "print(\"Observed Prob_A: \", np.mean(observations_A_), \"...\")\n",
        "print(\"Obs from Site B: \", observations_B_[:30], \"...\")\n",
        "print(\"Observed Prob_B: \", np.mean(observations_B_))"
      ],
      "execution_count": 0,
      "outputs": [
        {
          "output_type": "stream",
          "text": [
            "Obs from Site A:  [0 0 0 0 0 0 0 0 0 0 0 0 0 0 0 0 0 0 0 0 0 0 0 0 0 0 0 0 0 0] ...\n",
            "Observed Prob_A:  0.050666666666666665 ...\n",
            "Obs from Site B:  [0 0 0 0 0 0 0 0 0 0 0 0 0 0 0 0 0 0 0 0 0 0 0 0 0 0 0 0 0 0] ...\n",
            "Observed Prob_B:  0.04\n"
          ],
          "name": "stdout"
        }
      ]
    },
    {
      "metadata": {
        "id": "LDzYsDVgMgsz",
        "colab_type": "text"
      },
      "cell_type": "markdown",
      "source": [
        "Below we run inference over the new model:"
      ]
    },
    {
      "metadata": {
        "id": "7ghHBEdXYtxV",
        "colab_type": "code",
        "colab": {}
      },
      "cell_type": "code",
      "source": [
        "def delta(prob_A, prob_B):\n",
        "    \"\"\"\n",
        "    Defining the deterministic delta function. This is our unknown of interest.\n",
        "        \n",
        "    Args:\n",
        "      prob_A: scalar estimate of the probability of a 1 appearing in \n",
        "                observation set A\n",
        "      prob_B: scalar estimate of the probability of a 1 appearing in \n",
        "                observation set B\n",
        "    Returns: \n",
        "      Difference between prob_A and prob_B\n",
        "    \"\"\"\n",
        "    return prob_A - prob_B\n",
        "\n",
        "  \n",
        "def double_joint_log_prob(observations_A_, observations_B_, \n",
        "                   prob_A, prob_B):\n",
        "    \"\"\"\n",
        "    Joint log probability optimization function.\n",
        "        \n",
        "    Args:\n",
        "      observations_A: An array of binary values representing the set of \n",
        "                      observations for site A\n",
        "      observations_B: An array of binary values representing the set of \n",
        "                      observations for site B \n",
        "      prob_A: scalar estimate of the probability of a 1 appearing in \n",
        "                observation set A\n",
        "      prob_B: scalar estimate of the probability of a 1 appearing in \n",
        "                observation set B \n",
        "    Returns: \n",
        "      Joint log probability optimization function.\n",
        "    \"\"\"\n",
        "    tfd = tfp.distributions\n",
        "  \n",
        "    rv_prob_A = tfd.Uniform(low=0., high=1.)\n",
        "    rv_prob_B = tfd.Uniform(low=0., high=1.)\n",
        "  \n",
        "    rv_obs_A = tfd.Bernoulli(probs=prob_A)\n",
        "    rv_obs_B = tfd.Bernoulli(probs=prob_B)\n",
        "  \n",
        "    return (\n",
        "        rv_prob_A.log_prob(prob_A)\n",
        "        + rv_prob_B.log_prob(prob_B)\n",
        "        + tf.reduce_sum(rv_obs_A.log_prob(observations_A_))\n",
        "        + tf.reduce_sum(rv_obs_B.log_prob(observations_B_))\n",
        "    )\n"
      ],
      "execution_count": 0,
      "outputs": []
    },
    {
      "metadata": {
        "id": "h0TDeF3IIAyQ",
        "colab_type": "code",
        "colab": {}
      },
      "cell_type": "code",
      "source": [
        "number_of_steps = 20000\n",
        "burnin = 1000\n",
        "\n",
        "# Set the chain's start state.\n",
        "initial_chain_state = [    \n",
        "    tf.reduce_mean(tf.to_float(observations_A)) * tf.ones([], dtype=tf.float32, name=\"init_prob_A\"),\n",
        "    tf.reduce_mean(tf.to_float(observations_B)) * tf.ones([], dtype=tf.float32, name=\"init_prob_B\")\n",
        "]\n",
        "\n",
        "# Since HMC operates over unconstrained space, we need to transform the\n",
        "# samples so they live in real-space.\n",
        "unconstraining_bijectors = [\n",
        "    tfp.bijectors.Identity(),   # Maps R to R.\n",
        "    tfp.bijectors.Identity()    # Maps R to R.\n",
        "]\n",
        "\n",
        "# Define a closure over our joint_log_prob.\n",
        "unnormalized_posterior_log_prob = lambda *args: double_joint_log_prob(observations_A_, observations_B_, *args)\n",
        "\n",
        "# Initialize the step_size. (It will be automatically adapted.)\n",
        "with tf.variable_scope(tf.get_variable_scope(), reuse=tf.AUTO_REUSE):\n",
        "    step_size = tf.get_variable(\n",
        "        name='step_size',\n",
        "        initializer=tf.constant(0.5, dtype=tf.float32),\n",
        "        trainable=False,\n",
        "        use_resource=True\n",
        "    )\n",
        "\n",
        "# Defining the HMC\n",
        "hmc=tfp.mcmc.TransformedTransitionKernel(\n",
        "    inner_kernel=tfp.mcmc.HamiltonianMonteCarlo(\n",
        "        target_log_prob_fn=unnormalized_posterior_log_prob,\n",
        "        num_leapfrog_steps=3,\n",
        "        step_size=step_size,\n",
        "        step_size_update_fn=tfp.mcmc.make_simple_step_size_update_policy(),\n",
        "        state_gradients_are_stopped=True),\n",
        "    bijector=unconstraining_bijectors)\n",
        "\n",
        "# Sample from the chain.\n",
        "[\n",
        "    posterior_prob_A,\n",
        "    posterior_prob_B\n",
        "], kernel_results = tfp.mcmc.sample_chain(\n",
        "    num_results=number_of_steps,\n",
        "    num_burnin_steps=burnin,\n",
        "    current_state=initial_chain_state,\n",
        "    kernel=hmc)\n",
        "\n",
        "# Initialize any created variables.\n",
        "init_g = tf.global_variables_initializer()\n",
        "init_l = tf.local_variables_initializer()"
      ],
      "execution_count": 0,
      "outputs": []
    },
    {
      "metadata": {
        "id": "beUUmGMbdrRr",
        "colab_type": "text"
      },
      "cell_type": "markdown",
      "source": [
        "#### Execute the TF graph to sample from the posterior"
      ]
    },
    {
      "metadata": {
        "id": "HTYITb9fdqIe",
        "colab_type": "code",
        "outputId": "a86196a2-d2e3-4fe9-9013-8df8ef373f46",
        "colab": {
          "base_uri": "https://localhost:8080/",
          "height": 35
        }
      },
      "cell_type": "code",
      "source": [
        "evaluate(init_g)\n",
        "evaluate(init_l)\n",
        "[\n",
        "    posterior_prob_A_,\n",
        "    posterior_prob_B_,\n",
        "    kernel_results_\n",
        "] = evaluate([\n",
        "    posterior_prob_A,\n",
        "    posterior_prob_B,\n",
        "    kernel_results\n",
        "])\n",
        "    \n",
        "print(\"acceptance rate: {}\".format(\n",
        "    kernel_results_.inner_results.is_accepted.mean()))\n",
        "\n",
        "burned_prob_A_trace_ = posterior_prob_A_[burnin:]\n",
        "burned_prob_B_trace_ = posterior_prob_B_[burnin:]\n",
        "burned_delta_trace_ = (posterior_prob_A_ - posterior_prob_B_)[burnin:]\n"
      ],
      "execution_count": 0,
      "outputs": [
        {
          "output_type": "stream",
          "text": [
            "acceptance rate: 0.6215\n"
          ],
          "name": "stdout"
        }
      ]
    },
    {
      "metadata": {
        "id": "YaD67cOkIAyT",
        "colab_type": "text"
      },
      "cell_type": "markdown",
      "source": [
        "Below we plot the posterior distributions for the three unknowns: "
      ]
    },
    {
      "metadata": {
        "id": "PpBXqVKELHRO",
        "colab_type": "code",
        "outputId": "22ebb011-f0ae-49e0-d890-ef271c06e8f2",
        "colab": {
          "base_uri": "https://localhost:8080/",
          "height": 744
        }
      },
      "cell_type": "code",
      "source": [
        "plt.figure(figsize(12.5, 12.5))\n",
        "\n",
        "#histogram of posteriors\n",
        "\n",
        "ax = plt.subplot(311)\n",
        "\n",
        "plt.xlim(0, .1)\n",
        "plt.hist(burned_prob_A_trace_, histtype='stepfilled', bins=25, alpha=0.85,\n",
        "         label=\"posterior of $p_A$\", color=TFColor[0], normed=True)\n",
        "plt.vlines(true_prob_A_, 0, 80, linestyle=\"--\", label=\"true $p_A$ (unknown)\")\n",
        "plt.legend(loc=\"upper right\")\n",
        "plt.title(\"Posterior distributions of $p_A$, $p_B$, and delta unknowns\")\n",
        "\n",
        "ax = plt.subplot(312)\n",
        "\n",
        "plt.xlim(0, .1)\n",
        "plt.hist(burned_prob_B_trace_, histtype='stepfilled', bins=25, alpha=0.85,\n",
        "         label=\"posterior of $p_B$\", color=TFColor[2], normed=True)\n",
        "plt.vlines(true_prob_B_, 0, 80, linestyle=\"--\", label=\"true $p_B$ (unknown)\")\n",
        "plt.legend(loc=\"upper right\")\n",
        "\n",
        "ax = plt.subplot(313)\n",
        "plt.hist(burned_delta_trace_, histtype='stepfilled', bins=30, alpha=0.85,\n",
        "         label=\"posterior of delta\", color=TFColor[6], normed=True)\n",
        "plt.vlines(true_prob_A_ - true_prob_B_, 0, 60, linestyle=\"--\",\n",
        "           label=\"true delta (unknown)\")\n",
        "plt.vlines(0, 0, 60, color=\"black\", alpha=0.2)\n",
        "plt.legend(loc=\"upper right\");"
      ],
      "execution_count": 0,
      "outputs": [
        {
          "output_type": "display_data",
          "data": {
            "image/png": "[encoded data removed]",
            "text/plain": [
              "<matplotlib.figure.Figure at 0x7ff554b8a400>"
            ]
          },
          "metadata": {
            "tags": []
          }
        }
      ]
    },
    {
      "metadata": {
        "id": "Hn-G0eFwIAyh",
        "colab_type": "text"
      },
      "cell_type": "markdown",
      "source": [
        "Notice that as a result of `N_B < N_A`, i.e. we have less data from site B, our posterior distribution of $p_B$ is fatter, implying we are less certain about the true value of $p_B$ than we are of $p_A$.  \n",
        "\n",
        "With respect to the posterior distribution of $\\text{delta}$, we can see that the majority of the distribution is above $\\text{delta}=0$, implying there site A's response is likely better than site B's response. The probability this inference is incorrect is easily computable:"
      ]
    },
    {
      "metadata": {
        "id": "nZxDurxyIAyh",
        "colab_type": "code",
        "outputId": "649bd9f0-c90c-4a49-99b3-1bf42caa4a79",
        "colab": {
          "base_uri": "https://localhost:8080/",
          "height": 53
        }
      },
      "cell_type": "code",
      "source": [
        "# Count the number of samples less than 0, i.e. the area under the curve\n",
        "# before 0, represent the probability that site A is worse than site B.\n",
        "print(\"Probability site A is WORSE than site B: %.3f\" % \\\n",
        "    np.mean(burned_delta_trace_ < 0))\n",
        "\n",
        "print(\"Probability site A is BETTER than site B: %.3f\" % \\\n",
        "    np.mean(burned_delta_trace_ > 0))"
      ],
      "execution_count": 0,
      "outputs": [
        {
          "output_type": "stream",
          "text": [
            "Probability site A is WORSE than site B: 0.138\n",
            "Probability site A is BETTER than site B: 0.862\n"
          ],
          "name": "stdout"
        }
      ]
    },
    {
      "metadata": {
        "id": "Q8cAEzbUIAyl",
        "colab_type": "text"
      },
      "cell_type": "markdown",
      "source": [
        "If this probability is too high for comfortable decision-making, we can perform more trials on site B (as site B has less samples to begin with, each additional data point for site B contributes more inferential \"power\" than each additional data point for site A). \n",
        "\n",
        "Try playing with the parameters `true_prob_A`, `true_prob_B`, `N_A`, and `N_B`, to see what the posterior of $\\text{delta}$ looks like. Notice in all this, the difference in sample sizes between site A and site B was never mentioned: it naturally fits into Bayesian analysis.\n",
        "\n",
        "I hope the readers feel this style of A/B testing is more natural than hypothesis testing, which has probably confused more than helped practitioners. Later in this book, we will see two extensions of this model: the first to help dynamically adjust for bad sites, and the second will improve the speed of this computation by reducing the analysis to a single equation.   "
      ]
    },
    {
      "metadata": {
        "id": "f-jxOi70IAyl",
        "colab_type": "text"
      },
      "cell_type": "markdown",
      "source": [
        "## An algorithm for human deceit\n",
        "\n",
        "Social data has an additional layer of interest as people are not always honest with responses, which adds a further complication into inference. For example, simply asking individuals \"Have you ever cheated on a test?\" will surely contain some rate of dishonesty. What you can say for certain is that the true rate is less than your observed rate (assuming individuals lie *only* about *not cheating*; I cannot imagine one who would admit \"Yes\" to cheating when in fact they hadn't cheated). \n",
        "\n",
        "To present an elegant solution to circumventing this dishonesty problem, and to demonstrate Bayesian modeling, we first need to introduce the binomial distribution.\n"
      ]
    },
    {
      "metadata": {
        "id": "qzCqZqzBDpMa",
        "colab_type": "text"
      },
      "cell_type": "markdown",
      "source": [
        "## The Binomial Distribution\n",
        "\n",
        "The binomial distribution is one of the most popular distributions, mostly because of its simplicity and usefulness. Unlike the other distributions we have encountered thus far in the book, the binomial distribution has 2 parameters: $N$, a positive integer representing $N$ trials or number of instances of potential events, and $p$, the probability of an event occurring in a single trial. Like the Poisson distribution, it is a discrete distribution, but unlike the Poisson distribution, it only weighs integers from $0$ to $N$. The mass distribution looks like:\n",
        "\n",
        "$$P( X = k ) =  {{N}\\choose{k}}  p^k(1-p)^{N-k}$$\n",
        "\n",
        "If $X$ is a binomial random variable with parameters $p$ and $N$, denoted $X \\sim \\text{Bin}(N,p)$, then $X$ is the number of events that occurred in the $N$ trials (obviously $0 \\le X \\le N$). The larger $p$ is (while still remaining between 0 and 1), the more events are likely to occur. The expected value of a binomial is equal to $Np$. Below we plot the mass probability distribution for varying parameters. "
      ]
    },
    {
      "metadata": {
        "id": "9I53Ta3maWgJ",
        "colab_type": "code",
        "outputId": "6aa0646f-33ea-49f2-b1ac-2e930c975232",
        "colab": {
          "base_uri": "https://localhost:8080/",
          "height": 296
        }
      },
      "cell_type": "code",
      "source": [
        "k_values = tf.range(start=0, limit=(N + 1), dtype=tf.float32)\n",
        "random_var_probs_1 = tfd.Binomial(total_count=10., probs=.4).prob(k_values)\n",
        "random_var_probs_2 = tfd.Binomial(total_count=10., probs=.9).prob(k_values)\n",
        "\n",
        "# Execute graph\n",
        "[\n",
        "    k_values_,\n",
        "    random_var_probs_1_,\n",
        "    random_var_probs_2_,\n",
        "] = evaluate([\n",
        "    k_values,\n",
        "    random_var_probs_1,\n",
        "    random_var_probs_2,\n",
        "])\n",
        "\n",
        "# Display results\n",
        "plt.figure(figsize=(12.5, 4))\n",
        "colors = [TFColor[3], TFColor[0]] \n",
        "\n",
        "plt.bar(k_values_ - 0.5, random_var_probs_1_, color=colors[0],\n",
        "        edgecolor=colors[0],\n",
        "        alpha=0.6,\n",
        "        label=\"$N$: %d, $p$: %.1f\" % (10., .4),\n",
        "        linewidth=3)\n",
        "plt.bar(k_values_ - 0.5, random_var_probs_2_, color=colors[1],\n",
        "        edgecolor=colors[1],\n",
        "        alpha=0.6,\n",
        "        label=\"$N$: %d, $p$: %.1f\" % (10., .9),\n",
        "        linewidth=3)\n",
        "\n",
        "plt.legend(loc=\"upper left\")\n",
        "plt.xlim(0, 10.5)\n",
        "plt.xlabel(\"$k$\")\n",
        "plt.ylabel(\"$P(X = k)$\")\n",
        "plt.title(\"Probability mass distributions of binomial random variables\");"
      ],
      "execution_count": 0,
      "outputs": [
        {
          "output_type": "display_data",
          "data": {
            "image/png": "[encoded data removed]",
            "text/plain": [
              "<matplotlib.figure.Figure at 0x7ff53e551320>"
            ]
          },
          "metadata": {
            "tags": []
          }
        }
      ]
    },
    {
      "metadata": {
        "id": "xT-q-ZI0IAys",
        "colab_type": "text"
      },
      "cell_type": "markdown",
      "source": [
        "The special case when $N = 1$ corresponds to the Bernoulli distribution. There is another connection between Bernoulli and Binomial random variables. If we have $X_1, X_2, ... , X_N$ Bernoulli random variables with the same $p$, then $Z = X_1 + X_2 + ... + X_N \\sim \\text{Binomial}(N, p )$.\n",
        "\n",
        "The expected value of a Bernoulli random variable is $p$. This can be seen by noting the more general Binomial random variable has expected value $Np$ and setting $N=1$."
      ]
    },
    {
      "metadata": {
        "id": "9HmW-50PIAyv",
        "colab_type": "text"
      },
      "cell_type": "markdown",
      "source": [
        "## Example: Cheating among students\n",
        "\n",
        "We will use the binomial distribution to determine the frequency of students cheating during an exam. If we let $N$ be the total number of students who took the exam, and assuming each student is interviewed post-exam (answering without consequence), we will receive integer $X$ \"Yes I did cheat\" answers. We then find the posterior distribution of $p$, given $N$, some specified prior on $p$, and observed data $X$. \n",
        "\n",
        "This is a completely absurd model. No student, even with a free-pass against punishment, would admit to cheating. What we need is a better *algorithm* to ask students if they had cheated. Ideally the algorithm should encourage individuals to be honest while preserving privacy. The following proposed algorithm is a solution I greatly admire for its ingenuity and effectiveness:\n",
        "\n",
        "> In the interview process for each student, the student flips a coin, hidden from the interviewer. The student agrees to answer honestly if the coin comes up heads. Otherwise, if the coin comes up tails, the student (secretly) flips the coin again, and answers \"Yes, I did cheat\" if the coin flip lands heads, and \"No, I did not cheat\", if the coin flip lands tails. This way, the interviewer does not know if a \"Yes\" was the result of a guilty plea, or a Heads on a second coin toss. Thus privacy is preserved and the researchers receive honest answers. \n",
        "\n",
        "I call this the Privacy Algorithm. One could of course argue that the interviewers are still receiving false data since some *Yes*'s are not confessions but instead randomness, but an alternative perspective is that the researchers are discarding approximately half of their original dataset since half of the responses will be noise. But they have gained a systematic data generation process that can be modeled. Furthermore, they do not have to incorporate (perhaps somewhat naively) the possibility of deceitful answers. We can use TFP to dig through this noisy model, and find a posterior distribution for the true frequency of liars. "
      ]
    },
    {
      "metadata": {
        "id": "gPcqaqxMIAyw",
        "colab_type": "text"
      },
      "cell_type": "markdown",
      "source": [
        "Suppose 100 students are being surveyed for cheating, and we wish to find $p$, the proportion of cheaters. There are a few ways we can model this in TFP. I'll demonstrate the most explicit way, and later show a simplified version. Both versions arrive at the same inference. In our data-generation model, we sample $p$, the true proportion of cheaters, from a prior. Since we are quite ignorant about $p$, we will assign it a $\\text{Uniform}(0,1)$ prior."
      ]
    },
    {
      "metadata": {
        "id": "LIg-xs2LIAyw",
        "colab_type": "code",
        "colab": {}
      },
      "cell_type": "code",
      "source": [
        "reset_sess()\n",
        "\n",
        "N = 100\n",
        "p = tfd.Uniform(name=\"freq_cheating\", low=0., high=1.)"
      ],
      "execution_count": 0,
      "outputs": []
    },
    {
      "metadata": {
        "id": "7L0nMGmrIAy0",
        "colab_type": "text"
      },
      "cell_type": "markdown",
      "source": [
        "Again, thinking of our data-generation model, we assign Bernoulli random variables to the 100 students: 1 implies they cheated and 0 implies they did not. "
      ]
    },
    {
      "metadata": {
        "id": "aXxhrJdtIAy0",
        "colab_type": "code",
        "outputId": "03eb77e2-f433-40d4-b725-abe60435ee9d",
        "colab": {
          "base_uri": "https://localhost:8080/",
          "height": 71
        }
      },
      "cell_type": "code",
      "source": [
        "N = 100\n",
        "reset_sess()\n",
        "p = tfd.Uniform(name=\"freq_cheating\", low=0., high=1.)\n",
        "true_answers = tfd.Bernoulli(name=\"truths\", \n",
        "                             probs=p.sample()).sample(sample_shape=N, \n",
        "                                                      seed=5)\n",
        "# Execute graph\n",
        "[\n",
        "    true_answers_,\n",
        "] = evaluate([\n",
        "    true_answers,\n",
        "])\n",
        "\n",
        "print(true_answers_)"
      ],
      "execution_count": 0,
      "outputs": [
        {
          "output_type": "stream",
          "text": [
            "[1 1 1 1 0 1 1 1 1 1 1 1 1 1 1 1 1 1 1 1 1 1 0 1 1 1 1 1 1 1 1 0 1 1 1 1 1\n",
            " 1 1 1 1 1 1 1 1 1 1 1 1 1 1 1 1 1 1 1 1 1 1 1 0 1 1 1 1 1 1 1 1 1 1 1 1 1\n",
            " 0 1 1 1 1 1 1 1 1 1 1 1 1 1 1 1 1 1 0 1 1 1 0 1 1 1]\n"
          ],
          "name": "stdout"
        }
      ]
    },
    {
      "metadata": {
        "id": "vNB9WGYcIAy4",
        "colab_type": "text"
      },
      "cell_type": "markdown",
      "source": [
        "If we carry out the algorithm, the next step that occurs is the first coin-flip each student makes. This can be modeled again by sampling 100 Bernoulli random variables with $p=1/2$: denote a 1 as a *Heads* and 0 a *Tails*."
      ]
    },
    {
      "metadata": {
        "id": "68t8O39EIAy4",
        "colab_type": "code",
        "outputId": "f56fc6e5-5271-45b5-9f4a-ef9ad165d61d",
        "colab": {
          "base_uri": "https://localhost:8080/",
          "height": 71
        }
      },
      "cell_type": "code",
      "source": [
        "N = 100\n",
        "first_coin_flips = tfd.Bernoulli(name=\"first_flips\", \n",
        "                                 probs=0.5).sample(sample_shape=N, \n",
        "                                                   seed=5)\n",
        "# Execute graph\n",
        "[\n",
        "    first_coin_flips_,\n",
        "] = evaluate([\n",
        "    first_coin_flips,\n",
        "])\n",
        "\n",
        "print(first_coin_flips_)"
      ],
      "execution_count": 0,
      "outputs": [
        {
          "output_type": "stream",
          "text": [
            "[1 0 1 0 0 1 0 0 1 0 1 1 0 0 0 1 1 1 1 0 0 0 0 1 0 0 1 1 1 0 1 0 0 1 1 1 1\n",
            " 0 1 1 1 1 1 0 1 0 0 1 0 0 1 1 0 1 0 0 0 1 1 0 0 0 0 0 1 0 0 1 0 0 0 1 0 0\n",
            " 0 1 0 0 1 1 1 0 0 1 0 1 1 1 1 1 0 0 0 1 0 1 0 0 1 1]\n"
          ],
          "name": "stdout"
        }
      ]
    },
    {
      "metadata": {
        "id": "8-ZnScpWIAzA",
        "colab_type": "text"
      },
      "cell_type": "markdown",
      "source": [
        "Although *not everyone* flips a second time, we can still model the possible realization of second coin-flips:"
      ]
    },
    {
      "metadata": {
        "id": "acP-4TAfIAzB",
        "colab_type": "code",
        "outputId": "6af0893a-a98d-4952-9cee-b42489a6b501",
        "colab": {
          "base_uri": "https://localhost:8080/",
          "height": 71
        }
      },
      "cell_type": "code",
      "source": [
        "N = 100\n",
        "second_coin_flips = tfd.Bernoulli(name=\"second_flips\", \n",
        "                                  probs=0.5).sample(sample_shape=N, \n",
        "                                                    seed=5)\n",
        "# Execute graph\n",
        "[\n",
        "    second_coin_flips_,\n",
        "] = evaluate([\n",
        "    second_coin_flips,\n",
        "])\n",
        "\n",
        "print(second_coin_flips_)"
      ],
      "execution_count": 0,
      "outputs": [
        {
          "output_type": "stream",
          "text": [
            "[1 0 1 0 0 1 0 0 1 0 1 1 0 0 0 1 1 1 1 0 0 0 0 1 0 0 1 1 1 0 1 0 0 1 1 1 1\n",
            " 0 1 1 1 1 1 0 1 0 0 1 0 0 1 1 0 1 0 0 0 1 1 0 0 0 0 0 1 0 0 1 0 0 0 1 0 0\n",
            " 0 1 0 0 1 1 1 0 0 1 0 1 1 1 1 1 0 0 0 1 0 1 0 0 1 1]\n"
          ],
          "name": "stdout"
        }
      ]
    },
    {
      "metadata": {
        "id": "uiVbAjoTIAzI",
        "colab_type": "text"
      },
      "cell_type": "markdown",
      "source": [
        "Using these variables, we can return a possible realization of the *observed proportion* of \"Yes\" responses. "
      ]
    },
    {
      "metadata": {
        "id": "BJxN0jmBIAzJ",
        "colab_type": "code",
        "colab": {}
      },
      "cell_type": "code",
      "source": [
        "def observed_proportion_calc(t_a = true_answers, \n",
        "                             fc = first_coin_flips,\n",
        "                             sc = second_coin_flips):\n",
        "    \"\"\"\n",
        "    Unnormalized log posterior distribution function\n",
        "        \n",
        "    Args:\n",
        "      t_a: array of binary variables representing the true answers\n",
        "      fc: array of binary variables representing the simulated first flips \n",
        "      sc: array of binary variables representing the simulated second flips\n",
        "    Returns: \n",
        "      Observed proportion of coin flips\n",
        "    Closure over: N\n",
        "    \"\"\"\n",
        "    observed = fc * t_a + (1 - fc) * sc\n",
        "    observed_proportion = tf.to_float(tf.reduce_sum(observed)) / tf.to_float(N)\n",
        "    \n",
        "    return tf.to_float(observed_proportion)\n"
      ],
      "execution_count": 0,
      "outputs": []
    },
    {
      "metadata": {
        "id": "OoIWHbsNIAzL",
        "colab_type": "text"
      },
      "cell_type": "markdown",
      "source": [
        "The line `fc*t_a + (1-fc)*sc` contains the heart of the Privacy algorithm. Elements in this array are 1 *if and only if* i) the first toss is heads and the student cheated or ii) the first toss is tails, and the second is heads, and are 0 else. Finally, the last line sums this vector and divides by `float(N)`, producing a proportion. "
      ]
    },
    {
      "metadata": {
        "id": "ma5VwRSNIAzM",
        "colab_type": "code",
        "outputId": "e4b531e2-1f2a-4ea2-d53e-bb11f10f7830",
        "colab": {
          "base_uri": "https://localhost:8080/",
          "height": 35
        }
      },
      "cell_type": "code",
      "source": [
        "observed_proportion_val = observed_proportion_calc(t_a=true_answers_,\n",
        "                                                   fc=first_coin_flips_,\n",
        "                                                   sc=second_coin_flips_)\n",
        "# Execute graph\n",
        "[\n",
        "    observed_proportion_val_,\n",
        "] = evaluate([\n",
        "    observed_proportion_val,\n",
        "])\n",
        "\n",
        "print(observed_proportion_val_)"
      ],
      "execution_count": 0,
      "outputs": [
        {
          "output_type": "stream",
          "text": [
            "0.48\n"
          ],
          "name": "stdout"
        }
      ]
    },
    {
      "metadata": {
        "id": "HNoBM39rIAzQ",
        "colab_type": "text"
      },
      "cell_type": "markdown",
      "source": [
        "Next we need a dataset. After performing our coin-flipped interviews the researchers received 35 \"Yes\" responses. To put this into a relative perspective, if there truly were no cheaters, we should expect to see on average 1/4 of all responses being a \"Yes\" (half chance of having first coin land Tails, and another half chance of having second coin land Heads), so about 25 responses in a cheat-free world. On the other hand, if *all students cheated*, we should expected to see approximately 3/4 of all responses be \"Yes\". \n",
        "\n",
        "The researchers observe a Binomial random variable, with `N = 100` and `total_yes = 35`:  "
      ]
    },
    {
      "metadata": {
        "id": "SLcH6ZPsIAzR",
        "colab_type": "code",
        "colab": {}
      },
      "cell_type": "code",
      "source": [
        "total_count = 100\n",
        "total_yes = 35"
      ],
      "execution_count": 0,
      "outputs": []
    },
    {
      "metadata": {
        "id": "-kWZd1ygofav",
        "colab_type": "code",
        "colab": {}
      },
      "cell_type": "code",
      "source": [
        "def coin_joint_log_prob(total_yes, total_count, lies_prob):\n",
        "    \"\"\"\n",
        "    Joint log probability optimization function.\n",
        "      \n",
        "    Args:\n",
        "      headsflips: Integer for total number of observed heads flips\n",
        "      N: Integer for number of total observation\n",
        "      lies_prob: Test probability of a heads flip (1) for a Binomial distribution\n",
        "    Returns: \n",
        "      Joint log probability optimization function.\n",
        "    \"\"\"\n",
        "  \n",
        "    rv_lies_prob = tfd.Uniform(name=\"rv_lies_prob\",low=0., high=1.)\n",
        "\n",
        "    cheated = tfd.Bernoulli(probs=tf.to_float(lies_prob)).sample(total_count)\n",
        "    first_flips = tfd.Bernoulli(probs=0.5).sample(total_count)\n",
        "    second_flips = tfd.Bernoulli(probs=0.5).sample(total_count)\n",
        "    observed_probability = tf.reduce_sum(tf.to_float(\n",
        "        cheated * first_flips + (1 - first_flips) * second_flips)) / total_count\n",
        "\n",
        "    rv_yeses = tfd.Binomial(name=\"rv_yeses\",\n",
        "                total_count=float(total_count),\n",
        "                probs=observed_probability)\n",
        "    \n",
        "    return (\n",
        "        rv_lies_prob.log_prob(lies_prob)\n",
        "        + tf.reduce_sum(rv_yeses.log_prob(tf.to_float(total_yes)))\n",
        "        )"
      ],
      "execution_count": 0,
      "outputs": []
    },
    {
      "metadata": {
        "id": "QZC4TITlIAzV",
        "colab_type": "text"
      },
      "cell_type": "markdown",
      "source": [
        "Below we add all the variables of interest to our Metropolis-Hastings sampler and run our black-box algorithm over the model. It's important to note that we're using a Metropolis-Hastings MCMC instead of a Hamiltonian since we're sampling inside."
      ]
    },
    {
      "metadata": {
        "id": "Awl3GmgjIAzV",
        "colab_type": "code",
        "colab": {}
      },
      "cell_type": "code",
      "source": [
        "burnin = 15000\n",
        "num_of_steps = 40000\n",
        "total_count=100\n",
        "\n",
        "# Set the chain's start state.\n",
        "initial_chain_state = [\n",
        "    0.4 * tf.ones([], dtype=tf.float32, name=\"init_prob\")\n",
        "]\n",
        "\n",
        "# Define a closure over our joint_log_prob.\n",
        "unnormalized_posterior_log_prob = lambda *args: coin_joint_log_prob(total_yes, total_count,  *args)\n",
        "\n",
        "# Defining the Metropolis-Hastings\n",
        "# We use a Metropolis-Hastings method here instead of Hamiltonian method\n",
        "# because the coin flips in the above example are non-differentiable and cannot\n",
        "# bue used with HMC.\n",
        "metropolis=tfp.mcmc.RandomWalkMetropolis(\n",
        "    target_log_prob_fn=unnormalized_posterior_log_prob,\n",
        "    seed=54)\n",
        "\n",
        "# Sample from the chain.\n",
        "[\n",
        "    posterior_p\n",
        "], kernel_results = tfp.mcmc.sample_chain(\n",
        "    num_results=num_of_steps,\n",
        "    num_burnin_steps=burnin,\n",
        "    current_state=initial_chain_state,\n",
        "    kernel=metropolis,\n",
        "    parallel_iterations=1,\n",
        "    name='Metropolis-Hastings_coin-flips')"
      ],
      "execution_count": 0,
      "outputs": []
    },
    {
      "metadata": {
        "id": "Lq0OtJDCufOu",
        "colab_type": "text"
      },
      "cell_type": "markdown",
      "source": [
        "##### Executing the TF graph to sample from the posterior"
      ]
    },
    {
      "metadata": {
        "id": "x--bCsBrr91E",
        "colab_type": "code",
        "outputId": "0ada393b-cc99-4c10-f61b-a0962e955f96",
        "colab": {
          "base_uri": "https://localhost:8080/",
          "height": 35
        }
      },
      "cell_type": "code",
      "source": [
        "# Content Warning: This cell can take up to 5 minutes in Graph Mode\n",
        "[\n",
        "    posterior_p_,\n",
        "    kernel_results_\n",
        "] = evaluate([\n",
        "    posterior_p,\n",
        "    kernel_results,\n",
        "])\n",
        " \n",
        "print(\"acceptance rate: {}\".format(\n",
        "    kernel_results_.is_accepted.mean()))\n",
        "# print(\"prob_p trace: \", posterior_p_)\n",
        "# print(\"prob_p burned trace: \", posterior_p_[burnin:])\n",
        "burned_cheating_freq_samples_ = posterior_p_[burnin:]"
      ],
      "execution_count": 0,
      "outputs": [
        {
          "output_type": "stream",
          "text": [
            "acceptance rate: 0.1056\n"
          ],
          "name": "stdout"
        }
      ]
    },
    {
      "metadata": {
        "id": "QhCgk98ynq5s",
        "colab_type": "text"
      },
      "cell_type": "markdown",
      "source": [
        "And finally we can plot the results."
      ]
    },
    {
      "metadata": {
        "id": "JoKNmLpxB1yt",
        "colab_type": "code",
        "outputId": "c38953bb-2929-45cb-e6f1-63b05b65ffbf",
        "colab": {
          "base_uri": "https://localhost:8080/",
          "height": 374
        }
      },
      "cell_type": "code",
      "source": [
        "plt.figure(figsize(12.5, 6))\n",
        "p_trace_ = burned_cheating_freq_samples_\n",
        "plt.hist(p_trace_, histtype=\"stepfilled\", normed=True, alpha=0.85, bins=30, \n",
        "         label=\"posterior distribution\", color=TFColor[3])\n",
        "plt.vlines([.1, .40], [0, 0], [5, 5], alpha=0.3)\n",
        "plt.xlim(0, 1)\n",
        "plt.legend();"
      ],
      "execution_count": 0,
      "outputs": [
        {
          "output_type": "display_data",
          "data": {
            "image/png": "[encoded data removed]",
            "text/plain": [
              "<matplotlib.figure.Figure at 0x7ff53da09908>"
            ]
          },
          "metadata": {
            "tags": []
          }
        }
      ]
    },
    {
      "metadata": {
        "id": "tqDMt8xyIAzd",
        "colab_type": "text"
      },
      "cell_type": "markdown",
      "source": [
        "With regards to the above plot, we are still pretty uncertain about what the true frequency of cheaters might be, but we have narrowed it down to a range between 0.1 to 0.4 (marked by the solid lines). This is pretty good, as *a priori* we had no idea how many students might have cheated (hence the uniform distribution for our prior). On the other hand, it is also pretty bad since there is a .3 length window the true value most likely lives in. Have we even gained anything, or are we still too uncertain about the true frequency? \n",
        "\n",
        "I would argue, yes, we have discovered something. It is implausible, according to our posterior, that there are *no cheaters*, i.e. the posterior assigns low probability to $p=0$. Since we started with an uniform prior, treating all values of $p$ as equally plausible, but the data ruled out $p=0$ as a possibility, we can be confident that there were cheaters. \n",
        "\n",
        "This kind of algorithm can be used to gather private information from users and be *reasonably* confident that the data, though noisy, is truthful. \n",
        "\n"
      ]
    },
    {
      "metadata": {
        "id": "Y0bK5tMAIAze",
        "colab_type": "text"
      },
      "cell_type": "markdown",
      "source": [
        "### Alternative TFP Model\n",
        "\n",
        "Given a value for $p$ (which from our god-like position we know), we can find the probability the student will answer yes: \n",
        "\n",
        "\\begin{align}\n",
        "P(\\text{\"Yes\"}) &= P( \\text{Heads on first coin} )P( \\text{cheater} ) + P( \\text{Tails on first coin} )P( \\text{Heads on second coin} ) \\\\\\\\\n",
        "&= \\frac{1}{2}p + \\frac{1}{2}\\frac{1}{2}\\\\\\\\\n",
        "&= \\frac{p}{2} + \\frac{1}{4}\n",
        "\\end{align}\n",
        "\n",
        "Thus, knowing $p$ we know the probability a student will respond \"Yes\". In TFP, we can create a deterministic function to evaluate the probability of responding \"Yes\", given $p$:"
      ]
    },
    {
      "metadata": {
        "id": "wBps82qhIAzf",
        "colab_type": "code",
        "colab": {}
      },
      "cell_type": "code",
      "source": [
        "reset_sess()\n",
        "\n",
        "p_new = tfd.Uniform(name=\"new_freq_cheating\", \n",
        "                low=0., \n",
        "                high=1.)\n",
        "p_new_skewed = tfd.Deterministic(name=\"p_skewed\", \n",
        "                             loc=(0.5 * p_new.sample(seed=0.5) + 0.25)).sample(seed=0.5)"
      ],
      "execution_count": 0,
      "outputs": []
    },
    {
      "metadata": {
        "id": "m_kgk64TIAzh",
        "colab_type": "text"
      },
      "cell_type": "markdown",
      "source": [
        "I could have typed `p_skewed  = 0.5*p + 0.25` instead for a one-liner, as the elementary operations of addition and scalar multiplication will implicitly create a deterministic variable, but I wanted to make the determinism explicit for clarity's sake. \n",
        "\n",
        "If we know the probability of respondents saying \"Yes\", which is `p_skewed`, and we have $N=100$ students, the number of \"Yes\" responses is a binomial random variable with parameters `N` and `p_skewed`.\n",
        "\n",
        "This is where we include our observed 35 \"Yes\" responses out of a total of 100 which are passed to the `joint_log_prob`."
      ]
    },
    {
      "metadata": {
        "id": "GJ2jFKI7ofa9",
        "colab_type": "code",
        "colab": {}
      },
      "cell_type": "code",
      "source": [
        "N = 100.\n",
        "total_yes = 35.\n",
        "\n",
        "def alt_joint_log_prob(yes_responses, N, prob_cheating):\n",
        "    \"\"\"\n",
        "    Alternative joint log probability optimization function.\n",
        "        \n",
        "    Args:\n",
        "      yes_responses: Integer for total number of affirmative responses\n",
        "      N: Integer for number of total observation\n",
        "      prob_cheating: Test probability of a student actually cheating\n",
        "    Returns: \n",
        "      Joint log probability optimization function.\n",
        "    \"\"\"\n",
        "    tfd = tfp.distributions\n",
        "  \n",
        "    rv_prob = tfd.Uniform(name=\"rv_new_freq_cheating\", low=0., high=1.)\n",
        "    prob_skewed = 0.5 * prob_cheating + 0.25\n",
        "    rv_yes_responses = tfd.Binomial(name=\"rv_yes_responses\",\n",
        "                                     total_count=tf.to_float(N), \n",
        "                                     probs=prob_skewed)\n",
        "\n",
        "    return (\n",
        "        rv_prob.log_prob(prob_cheating)\n",
        "        + tf.reduce_sum(rv_yes_responses.log_prob(tf.to_float(yes_responses)))\n",
        "    )"
      ],
      "execution_count": 0,
      "outputs": []
    },
    {
      "metadata": {
        "id": "0clIAcyHIAzj",
        "colab_type": "text"
      },
      "cell_type": "markdown",
      "source": [
        "\n",
        "Below we add all the variables of interest to our HMC component-defining cell and run our black-box algorithm over the model. "
      ]
    },
    {
      "metadata": {
        "id": "C5QLZ17e5u6t",
        "colab_type": "code",
        "colab": {}
      },
      "cell_type": "code",
      "source": [
        "number_of_steps = 25000\n",
        "burnin = 2500\n",
        "\n",
        "# Set the chain's start state.\n",
        "initial_chain_state = [\n",
        "    0.2 * tf.ones([], dtype=tf.float32, name=\"init_skewed_p\")\n",
        "]\n",
        "\n",
        "# Since HMC operates over unconstrained space, we need to transform the\n",
        "# samples so they live in real-space.\n",
        "unconstraining_bijectors = [\n",
        "    tfp.bijectors.Sigmoid(),   # Maps [0,1] to R.\n",
        "]\n",
        "\n",
        "# Define a closure over our joint_log_prob.\n",
        "# unnormalized_posterior_log_prob = lambda *args: alt_joint_log_prob(headsflips, total_yes, N, *args)\n",
        "unnormalized_posterior_log_prob = lambda *args: alt_joint_log_prob(total_yes, N, *args)\n",
        "\n",
        "# Initialize the step_size. (It will be automatically adapted.)\n",
        "with tf.variable_scope(tf.get_variable_scope(), reuse=tf.AUTO_REUSE):\n",
        "    step_size = tf.get_variable(\n",
        "        name='skewed_step_size',\n",
        "        initializer=tf.constant(0.5, dtype=tf.float32),\n",
        "        trainable=False,\n",
        "        use_resource=True\n",
        "    ) \n",
        "\n",
        "# Defining the HMC\n",
        "hmc=tfp.mcmc.TransformedTransitionKernel(\n",
        "    inner_kernel=tfp.mcmc.HamiltonianMonteCarlo(\n",
        "        target_log_prob_fn=unnormalized_posterior_log_prob,\n",
        "        num_leapfrog_steps=2,\n",
        "        step_size=step_size,\n",
        "        step_size_update_fn=tfp.mcmc.make_simple_step_size_update_policy(),\n",
        "        state_gradients_are_stopped=True),\n",
        "    bijector=unconstraining_bijectors)\n",
        "\n",
        "# Sample from the chain.\n",
        "[\n",
        "    posterior_skewed_p\n",
        "], kernel_results = tfp.mcmc.sample_chain(\n",
        "    num_results=number_of_steps,\n",
        "    num_burnin_steps=burnin,\n",
        "    current_state=initial_chain_state,\n",
        "    kernel=hmc)\n",
        "\n",
        "# Initialize any created variables.\n",
        "# This prevents a FailedPreconditionError\n",
        "init_g = tf.global_variables_initializer()\n",
        "init_l = tf.local_variables_initializer()"
      ],
      "execution_count": 0,
      "outputs": []
    },
    {
      "metadata": {
        "id": "eJYLS8EysHqj",
        "colab_type": "text"
      },
      "cell_type": "markdown",
      "source": [
        "#### Execute the TF graph to sample from the posterior"
      ]
    },
    {
      "metadata": {
        "id": "ALvEN1yQkTIx",
        "colab_type": "code",
        "outputId": "b57eb3fe-d1e3-498d-d03c-9452f84ad4e5",
        "colab": {
          "base_uri": "https://localhost:8080/",
          "height": 35
        }
      },
      "cell_type": "code",
      "source": [
        "# This cell may take 5 minutes in Graph Mode\n",
        "evaluate(init_g)\n",
        "evaluate(init_l)\n",
        "[\n",
        "    posterior_skewed_p_,\n",
        "    kernel_results_\n",
        "] = evaluate([\n",
        "    posterior_skewed_p,\n",
        "    kernel_results\n",
        "])\n",
        "\n",
        "    \n",
        "print(\"acceptance rate: {}\".format(\n",
        "    kernel_results_.inner_results.is_accepted.mean()))\n",
        "# print(\"final step size: {}\".format(\n",
        "#     kernel_results_.inner_results.extra.step_size_assign[-100:].mean()))\n",
        "\n",
        "# print(\"p_skewed trace: \", posterior_skewed_p_)\n",
        "# print(\"p_skewed burned trace: \", posterior_skewed_p_[burnin:])\n",
        "freq_cheating_samples_ = posterior_skewed_p_[burnin:]\n"
      ],
      "execution_count": 0,
      "outputs": [
        {
          "output_type": "stream",
          "text": [
            "acceptance rate: 0.60368\n"
          ],
          "name": "stdout"
        }
      ]
    },
    {
      "metadata": {
        "id": "Ye0uC_c-xrWf",
        "colab_type": "text"
      },
      "cell_type": "markdown",
      "source": [
        "Now we can plot our results"
      ]
    },
    {
      "metadata": {
        "id": "_P5Z_uySgi-S",
        "colab_type": "code",
        "outputId": "92ad7469-55fd-4cd9-ed77-55fa9825b999",
        "colab": {
          "base_uri": "https://localhost:8080/",
          "height": 374
        }
      },
      "cell_type": "code",
      "source": [
        "plt.figure(figsize(12.5, 6))\n",
        "p_trace_ = freq_cheating_samples_\n",
        "plt.hist(p_trace_, histtype=\"stepfilled\", normed=True, alpha=0.85, bins=30, \n",
        "         label=\"posterior distribution\", color=TFColor[3])\n",
        "plt.vlines([.1, .40], [0, 0], [5, 5], alpha=0.2)\n",
        "plt.xlim(0, 1)\n",
        "plt.legend();"
      ],
      "execution_count": 0,
      "outputs": [
        {
          "output_type": "display_data",
          "data": {
            "image/png": "[encoded data removed]",
            "text/plain": [
              "<matplotlib.figure.Figure at 0x7ff53dbc5400>"
            ]
          },
          "metadata": {
            "tags": []
          }
        }
      ]
    },
    {
      "metadata": {
        "id": "Lxt6fSRvIAzy",
        "colab_type": "text"
      },
      "cell_type": "markdown",
      "source": [
        "The remainder of this chapter examines some practical examples of TFP and TFP modeling:"
      ]
    },
    {
      "metadata": {
        "id": "KMoiodMmIAzy",
        "colab_type": "text"
      },
      "cell_type": "markdown",
      "source": [
        "## Example: Challenger Space Shuttle Disaster <span id=\"challenger\"/>\n",
        "\n",
        "On January 28, 1986, the twenty-fifth flight of the U.S. space shuttle program ended in disaster when one of the rocket boosters of the Shuttle Challenger exploded shortly after lift-off, killing all seven crew members. The presidential commission on the accident concluded that it was caused by the failure of an O-ring in a field joint on the rocket booster, and that this failure was due to a faulty design that made the O-ring unacceptably sensitive to a number of factors including outside temperature. Of the previous 24 flights, data were available on failures of O-rings on 23, (one was lost at sea), and these data were discussed on the evening preceding the Challenger launch, but unfortunately only the data corresponding to the 7 flights on which there was a damage incident were considered important and these were thought to show no obvious trend. The data are shown below (see [1]):\n",
        "\n",
        "\n",
        "\n",
        "\n"
      ]
    },
    {
      "metadata": {
        "id": "tlPZvBWkg5g-",
        "colab_type": "code",
        "outputId": "3c084612-00d6-431b-e2e3-78bed245f066",
        "colab": {
          "base_uri": "https://localhost:8080/",
          "height": 35
        }
      },
      "cell_type": "code",
      "source": [
        "reset_sess()\n",
        "\n",
        "import wget\n",
        "url = 'https://raw.githubusercontent.com/CamDavidsonPilon/Probabilistic-Programming-and-Bayesian-Methods-for-Hackers/master/Chapter2_MorePyMC/data/challenger_data.csv'\n",
        "filename = wget.download(url)\n",
        "filename"
      ],
      "execution_count": 0,
      "outputs": [
        {
          "output_type": "execute_result",
          "data": {
            "text/plain": [
              "'challenger_data.csv'"
            ]
          },
          "metadata": {
            "tags": []
          },
          "execution_count": 3
        }
      ]
    },
    {
      "metadata": {
        "id": "BNOqG_9zIAzz",
        "colab_type": "code",
        "outputId": "40dbcd91-fee1-417b-94e5-e09dfe32cdf1",
        "colab": {
          "base_uri": "https://localhost:8080/",
          "height": 699
        }
      },
      "cell_type": "code",
      "source": [
        "plt.figure(figsize(12.5, 3.5))\n",
        "np.set_printoptions(precision=3, suppress=True)\n",
        "challenger_data_ = np.genfromtxt(\"challenger_data.csv\", skip_header=1,\n",
        "                                usecols=[1, 2], missing_values=\"NA\",\n",
        "                                delimiter=\",\")\n",
        "#drop the NA values\n",
        "challenger_data_ = challenger_data_[~np.isnan(challenger_data_[:, 1])]\n",
        "\n",
        "#plot it, as a function of tempature (the first column)\n",
        "print(\"Temp (F), O-Ring failure?\")\n",
        "print(challenger_data_)\n",
        "\n",
        "plt.scatter(challenger_data_[:, 0], challenger_data_[:, 1], s=75, color=\"k\",\n",
        "            alpha=0.5)\n",
        "plt.yticks([0, 1])\n",
        "plt.ylabel(\"Damage Incident?\")\n",
        "plt.xlabel(\"Outside temperature (Fahrenheit)\")\n",
        "plt.title(\"Defects of the Space Shuttle O-Rings vs temperature\");\n"
      ],
      "execution_count": 0,
      "outputs": [
        {
          "output_type": "stream",
          "text": [
            "Temp (F), O-Ring failure?\n",
            "[[66.  0.]\n",
            " [70.  1.]\n",
            " [69.  0.]\n",
            " [68.  0.]\n",
            " [67.  0.]\n",
            " [72.  0.]\n",
            " [73.  0.]\n",
            " [70.  0.]\n",
            " [57.  1.]\n",
            " [63.  1.]\n",
            " [70.  1.]\n",
            " [78.  0.]\n",
            " [67.  0.]\n",
            " [53.  1.]\n",
            " [67.  0.]\n",
            " [75.  0.]\n",
            " [70.  0.]\n",
            " [81.  0.]\n",
            " [76.  0.]\n",
            " [79.  0.]\n",
            " [75.  1.]\n",
            " [76.  0.]\n",
            " [58.  1.]]\n"
          ],
          "name": "stdout"
        },
        {
          "output_type": "display_data",
          "data": {
            "image/png": "[encoded data removed]",
            "text/plain": [
              "<matplotlib.figure.Figure at 0x7fa6cbdaf710>"
            ]
          },
          "metadata": {
            "tags": []
          }
        }
      ]
    },
    {
      "metadata": {
        "id": "El9Z_4ulIAz3",
        "colab_type": "text"
      },
      "cell_type": "markdown",
      "source": [
        "It looks clear that *the probability* of damage incidents occurring increases as the outside temperature decreases. We are interested in modeling the probability here because it does not look like there is a strict cutoff point between temperature and a damage incident occurring. The best we can do is ask \"At temperature $t$, what is the probability of a damage incident?\". The goal of this example is to answer that question.\n",
        "\n",
        "We need a function of temperature, call it $p(t)$, that is bounded between 0 and 1 (so as to model a probability) and changes from 1 to 0 as we increase temperature. There are actually many such functions, but the most popular choice is the *logistic function.*\n",
        "\n",
        "$$p(t) = \\frac{1}{ 1 + e^{ \\;\\beta t } } $$\n",
        "\n",
        "In this model, $\\beta$ is the variable we are uncertain about. Below is the function plotted for $\\beta = 1, 3, -5$."
      ]
    },
    {
      "metadata": {
        "id": "U4kW2QIddYEs",
        "colab_type": "code",
        "outputId": "33155791-a548-4c5d-b739-2a21ae33117b",
        "colab": {
          "base_uri": "https://localhost:8080/",
          "height": 211
        }
      },
      "cell_type": "code",
      "source": [
        "def logistic(x, beta):\n",
        "    \"\"\"\n",
        "    Logistic Function\n",
        "        \n",
        "    Args:\n",
        "      x: independent variable\n",
        "      beta: beta term\n",
        "    Returns: \n",
        "      Logistic function\n",
        "    \"\"\"\n",
        "    return 1.0 / (1.0 + tf.exp(beta * x))\n",
        "\n",
        "x_vals = tf.linspace(start=-4., stop=4., num=100)\n",
        "log_beta_1 = logistic(x_vals, 1.)\n",
        "log_beta_3 = logistic(x_vals, 3.)\n",
        "log_beta_m5 = logistic(x_vals, -5.)\n",
        "\n",
        "[\n",
        "    x_vals_,\n",
        "    log_beta_1_,\n",
        "    log_beta_3_,\n",
        "    log_beta_m5_,\n",
        "] = evaluate([\n",
        "    x_vals,\n",
        "    log_beta_1,\n",
        "    log_beta_3,\n",
        "    log_beta_m5,\n",
        "])\n",
        "\n",
        "plt.figure(figsize(12.5, 3))\n",
        "plt.plot(x_vals_, log_beta_1_, label=r\"$\\beta = 1$\", color=TFColor[0])\n",
        "plt.plot(x_vals_, log_beta_3_, label=r\"$\\beta = 3$\", color=TFColor[3])\n",
        "plt.plot(x_vals_, log_beta_m5_, label=r\"$\\beta = -5$\", color=TFColor[6])\n",
        "plt.legend();"
      ],
      "execution_count": 0,
      "outputs": [
        {
          "output_type": "display_data",
          "data": {
            "image/png": "[encoded data removed]",
            "text/plain": [
              "<matplotlib.figure.Figure at 0x7fa6cbdb9cc0>"
            ]
          },
          "metadata": {
            "tags": []
          }
        }
      ]
    },
    {
      "metadata": {
        "id": "H_rdEcFIIAz7",
        "colab_type": "text"
      },
      "cell_type": "markdown",
      "source": [
        "But something is missing. In the plot of the logistic function, the probability changes only near zero, but in our data above the probability changes around 65 to 70. We need to add a *bias* term to our logistic function:\n",
        "\n",
        "$$p(t) = \\frac{1}{ 1 + e^{ \\;\\beta t + \\alpha } } $$\n",
        "\n",
        "Some plots are below, with differing $\\alpha$."
      ]
    },
    {
      "metadata": {
        "id": "T0iZj_eCIAz8",
        "colab_type": "code",
        "outputId": "1c1f5fcd-094f-4bab-d406-9187aeabb3f6",
        "colab": {
          "base_uri": "https://localhost:8080/",
          "height": 211
        }
      },
      "cell_type": "code",
      "source": [
        "def logistic(x, beta, alpha=0):\n",
        "    \"\"\"\n",
        "    Logistic Function with offset\n",
        "        \n",
        "    Args:\n",
        "        x: independent variable\n",
        "        beta: beta term \n",
        "        alpha: alpha term\n",
        "    Returns: \n",
        "        Logistic function\n",
        "    \"\"\"\n",
        "    return 1.0 / (1.0 + tf.exp((beta * x) + alpha))\n",
        "\n",
        "x_vals = tf.linspace(start=-4., stop=4., num=100)\n",
        "log_beta_1_alpha_1 = logistic(x_vals, 1, 1)\n",
        "log_beta_3_alpha_m2 = logistic(x_vals, 3, -2)\n",
        "log_beta_m5_alpha_7 = logistic(x_vals, -5, 7)\n",
        "\n",
        "[\n",
        "    x_vals_,\n",
        "    log_beta_1_alpha_1_,\n",
        "    log_beta_3_alpha_m2_,\n",
        "    log_beta_m5_alpha_7_,\n",
        "] = evaluate([\n",
        "    x_vals,\n",
        "    log_beta_1_alpha_1,\n",
        "    log_beta_3_alpha_m2,\n",
        "    log_beta_m5_alpha_7,\n",
        "])\n",
        "\n",
        "plt.figure(figsize(12.5, 3))\n",
        "plt.plot(x_vals_, log_beta_1_, label=r\"$\\beta = 1$\", ls=\"--\", lw=1, color=TFColor[0])\n",
        "plt.plot(x_vals_, log_beta_3_, label=r\"$\\beta = 3$\", ls=\"--\", lw=1, color=TFColor[3])\n",
        "plt.plot(x_vals_, log_beta_m5_, label=r\"$\\beta = -5$\", ls=\"--\", lw=1, color=TFColor[6])\n",
        "plt.plot(x_vals_, log_beta_1_alpha_1_, label=r\"$\\beta = 1, \\alpha = 1$\", color=TFColor[0])\n",
        "plt.plot(x_vals_, log_beta_3_alpha_m2_, label=r\"$\\beta = 3, \\alpha = -2$\", color=TFColor[3])\n",
        "plt.plot(x_vals_, log_beta_m5_alpha_7_, label=r\"$\\beta = -5, \\alpha = 7$\", color=TFColor[6])\n",
        "plt.legend(loc=\"lower left\");"
      ],
      "execution_count": 0,
      "outputs": [
        {
          "output_type": "display_data",
          "data": {
            "image/png": "[encoded data removed]",
            "text/plain": [
              "<matplotlib.figure.Figure at 0x7fa6cbdd0160>"
            ]
          },
          "metadata": {
            "tags": []
          }
        }
      ]
    },
    {
      "metadata": {
        "id": "W_B8n8wuIAz9",
        "colab_type": "text"
      },
      "cell_type": "markdown",
      "source": [
        "Adding a constant term $\\alpha$ amounts to shifting the curve left or right (hence why it is called a *bias*).\n",
        "\n",
        "Let's start modeling this in TFP. The $\\beta, \\alpha$ parameters have no reason to be positive, bounded or relatively large, so they are best modeled by a *Normal random variable*, introduced next."
      ]
    },
    {
      "metadata": {
        "id": "_52Ml-KhIAz9",
        "colab_type": "text"
      },
      "cell_type": "markdown",
      "source": [
        "### Normal distributions\n",
        "\n",
        "A Normal random variable, denoted $X \\sim N(\\mu, 1/\\tau)$, has a distribution with two parameters: the mean, $\\mu$, and the *precision*, $\\tau$. Those familiar with the Normal distribution already have probably seen $\\sigma^2$ instead of $\\tau^{-1}$. They are in fact reciprocals of each other. The change was motivated by simpler mathematical analysis and is an artifact of older Bayesian methods. Just remember: the smaller $\\tau$, the larger the spread of the distribution (i.e. we are more uncertain); the larger $\\tau$, the tighter the distribution (i.e. we are more certain). Regardless, $\\tau$ is always positive. \n",
        "\n",
        "The probability density function of a $N( \\mu, 1/\\tau)$ random variable is:\n",
        "\n",
        "$$ f(x | \\mu, \\tau) = \\sqrt{\\frac{\\tau}{2\\pi}} \\exp\\left( -\\frac{\\tau}{2} (x-\\mu)^2 \\right) $$\n",
        "\n",
        "We plot some different density functions below. "
      ]
    },
    {
      "metadata": {
        "id": "OLw3-8x2hxkm",
        "colab_type": "code",
        "outputId": "a7a01809-d80e-4c24-b3ff-0f18c04c4de6",
        "colab": {
          "base_uri": "https://localhost:8080/",
          "height": 240
        }
      },
      "cell_type": "code",
      "source": [
        "rand_x_vals = tf.linspace(start=-8., stop=7., num=150)\n",
        "\n",
        "density_func_1 = tfd.Normal(loc=float(-2.), scale=float(1./.7)).prob(rand_x_vals)\n",
        "density_func_2 = tfd.Normal(loc=float(0.), scale=float(1./1)).prob(rand_x_vals)\n",
        "density_func_3 = tfd.Normal(loc=float(3.), scale=float(1./2.8)).prob(rand_x_vals)\n",
        "\n",
        "[\n",
        "    rand_x_vals_,\n",
        "    density_func_1_,\n",
        "    density_func_2_,\n",
        "    density_func_3_,\n",
        "] = evaluate([\n",
        "    rand_x_vals,\n",
        "    density_func_1,\n",
        "    density_func_2,\n",
        "    density_func_3,\n",
        "])\n",
        "\n",
        "colors = [TFColor[3], TFColor[0], TFColor[6]]\n",
        "\n",
        "plt.figure(figsize(12.5, 3))\n",
        "plt.plot(rand_x_vals_, density_func_1_,\n",
        "         label=r\"$\\mu = %d, \\tau = %.1f$\" % (-2., .7), color=TFColor[3])\n",
        "plt.fill_between(rand_x_vals_, density_func_1_, color=TFColor[3], alpha=.33)\n",
        "plt.plot(rand_x_vals_, density_func_2_, \n",
        "         label=r\"$\\mu = %d, \\tau = %.1f$\" % (0., 1), color=TFColor[0])\n",
        "plt.fill_between(rand_x_vals_, density_func_2_, color=TFColor[0], alpha=.33)\n",
        "plt.plot(rand_x_vals_, density_func_3_,\n",
        "         label=r\"$\\mu = %d, \\tau = %.1f$\" % (3., 2.8), color=TFColor[6])\n",
        "plt.fill_between(rand_x_vals_, density_func_3_, color=TFColor[6], alpha=.33)\n",
        "\n",
        "plt.legend(loc=r\"upper right\")\n",
        "plt.xlabel(r\"$x$\")\n",
        "plt.ylabel(r\"density function at $x$\")\n",
        "plt.title(r\"Probability distribution of three different Normal random variables\");"
      ],
      "execution_count": 0,
      "outputs": [
        {
          "output_type": "display_data",
          "data": {
            "image/png": "[encoded data removed]",
            "text/plain": [
              "<matplotlib.figure.Figure at 0x7fa6c94db208>"
            ]
          },
          "metadata": {
            "tags": []
          }
        }
      ]
    },
    {
      "metadata": {
        "id": "HAxWLKGcIA0A",
        "colab_type": "text"
      },
      "cell_type": "markdown",
      "source": [
        "A Normal random variable can be take on any real number, but the variable is very likely to be relatively close to $\\mu$. In fact, the expected value of a Normal is equal to its $\\mu$ parameter:\n",
        "\n",
        "$$ E[ X | \\mu, \\tau] = \\mu$$\n",
        "\n",
        "and its variance is equal to the inverse of $\\tau$:\n",
        "\n",
        "$$Var( X | \\mu, \\tau ) = \\frac{1}{\\tau}$$\n",
        "\n",
        "\n",
        "\n",
        "Below we continue our modeling of the Challenger space craft:"
      ]
    },
    {
      "metadata": {
        "id": "F3DBYxvAIA0B",
        "colab_type": "code",
        "colab": {}
      },
      "cell_type": "code",
      "source": [
        "reset_sess()\n",
        "\n",
        "temperature_ = challenger_data_[:, 0]\n",
        "temperature = tf.convert_to_tensor(temperature_, dtype=tf.float32)\n",
        "D_ = challenger_data_[:, 1]                # defect or not?\n",
        "D = tf.convert_to_tensor(D_, dtype=tf.float32)\n",
        "\n",
        "beta = tfd.Normal(name=\"beta\", loc=0.3, scale=1000.).sample()\n",
        "alpha = tfd.Normal(name=\"alpha\", loc=-15., scale=1000.).sample()\n",
        "p_deterministic = tfd.Deterministic(name=\"p\", loc=1.0/(1. + tf.exp(beta * temperature_ + alpha))).sample()\n",
        "\n",
        "[\n",
        "    prior_alpha_,\n",
        "    prior_beta_,\n",
        "    p_deterministic_,\n",
        "    D_,\n",
        "] = evaluate([\n",
        "    alpha,\n",
        "    beta,\n",
        "    p_deterministic,\n",
        "    D,\n",
        "])\n"
      ],
      "execution_count": 0,
      "outputs": []
    },
    {
      "metadata": {
        "id": "PxOWy25CIA0D",
        "colab_type": "text"
      },
      "cell_type": "markdown",
      "source": [
        "We have our probabilities, but how do we connect them to our observed data? A *Bernoulli* random variable with parameter $p$, denoted $\\text{Ber}(p)$, is a random variable that takes value 1 with probability $p$, and 0 else. Thus, our model can look like:\n",
        "\n",
        "$$ \\text{Defect Incident, $D_i$} \\sim \\text{Ber}( \\;p(t_i)\\; ), \\;\\; i=1..N$$\n",
        "\n",
        "where $p(t)$ is our logistic function and $t_i$ are the temperatures we have observations about. Notice in the code below we set the values of `beta` and `alpha` to 0 in `initial_chain_state`. The reason for this is that if `beta` and `alpha` are very large, they make `p` equal to 1 or 0. Unfortunately, `tfd.Bernoulli` does not like probabilities of exactly 0 or 1, though they are mathematically well-defined probabilities. So by setting the coefficient values to `0`, we set the variable `p` to be a reasonable starting value. This has no effect on our results, nor does it mean we are including any additional information in our prior. It is simply a computational caveat in TFP. "
      ]
    },
    {
      "metadata": {
        "id": "vRqoyxqnofbT",
        "colab_type": "code",
        "colab": {}
      },
      "cell_type": "code",
      "source": [
        "def challenger_joint_log_prob(D, temperature_, alpha, beta):\n",
        "    \"\"\"\n",
        "    Joint log probability optimization function.\n",
        "        \n",
        "    Args:\n",
        "      D: The Data from the challenger disaster representing presence or \n",
        "         absence of defect\n",
        "      temperature_: The Data from the challenger disaster, specifically the temperature on \n",
        "         the days of the observation of the presence or absence of a defect\n",
        "      alpha: one of the inputs of the HMC\n",
        "      beta: one of the inputs of the HMC\n",
        "    Returns: \n",
        "      Joint log probability optimization function.\n",
        "    \"\"\"\n",
        "    rv_alpha = tfd.Normal(loc=0., scale=1000.)\n",
        "    rv_beta = tfd.Normal(loc=0., scale=1000.)\n",
        "    logistic_p = 1.0/(1. + tf.exp(beta * tf.to_float(temperature_) + alpha))\n",
        "    rv_observed = tfd.Bernoulli(probs=logistic_p)\n",
        "  \n",
        "    return (\n",
        "        rv_alpha.log_prob(alpha)\n",
        "        + rv_beta.log_prob(beta)\n",
        "        + tf.reduce_sum(rv_observed.log_prob(D))\n",
        "    )"
      ],
      "execution_count": 0,
      "outputs": []
    },
    {
      "metadata": {
        "id": "oHU-MbPxs8iL",
        "colab_type": "code",
        "colab": {}
      },
      "cell_type": "code",
      "source": [
        "number_of_steps = 60000\n",
        "burnin = 50000\n",
        "\n",
        "# Set the chain's start state.\n",
        "initial_chain_state = [\n",
        "    0. * tf.ones([], dtype=tf.float32, name=\"init_alpha\"),\n",
        "    0. * tf.ones([], dtype=tf.float32, name=\"init_beta\")\n",
        "]\n",
        "\n",
        "# Since HMC operates over unconstrained space, we need to transform the\n",
        "# samples so they live in real-space.\n",
        "unconstraining_bijectors = [\n",
        "    tfp.bijectors.Identity(),\n",
        "    tfp.bijectors.Identity()\n",
        "]\n",
        "\n",
        "# Define a closure over our joint_log_prob.\n",
        "unnormalized_posterior_log_prob = lambda *args: challenger_joint_log_prob(D, temperature_, *args)\n",
        "\n",
        "# Initialize the step_size. (It will be automatically adapted.)\n",
        "with tf.variable_scope(tf.get_variable_scope(), reuse=tf.AUTO_REUSE):\n",
        "    step_size = tf.get_variable(\n",
        "        name='step_size',\n",
        "        initializer=tf.constant(0.5, dtype=tf.float32),\n",
        "        trainable=False,\n",
        "        use_resource=True\n",
        "    )\n",
        "\n",
        "# Defining the HMC\n",
        "hmc=tfp.mcmc.TransformedTransitionKernel(\n",
        "    inner_kernel=tfp.mcmc.HamiltonianMonteCarlo(\n",
        "        target_log_prob_fn=unnormalized_posterior_log_prob,\n",
        "        num_leapfrog_steps=2,\n",
        "        step_size=step_size,\n",
        "        step_size_update_fn=tfp.mcmc.make_simple_step_size_update_policy(),\n",
        "        state_gradients_are_stopped=True),\n",
        "    bijector=unconstraining_bijectors)\n",
        "\n",
        "# Sampling from the chain.\n",
        "[\n",
        "    posterior_alpha,\n",
        "    posterior_beta\n",
        "], kernel_results = tfp.mcmc.sample_chain(\n",
        "    num_results = number_of_steps,\n",
        "    num_burnin_steps = burnin,\n",
        "    current_state=initial_chain_state,\n",
        "    kernel=hmc)\n",
        "\n",
        "# Initialize any created variables for preconditions\n",
        "init_g = tf.global_variables_initializer()"
      ],
      "execution_count": 0,
      "outputs": []
    },
    {
      "metadata": {
        "id": "eNkhSXDkthRs",
        "colab_type": "text"
      },
      "cell_type": "markdown",
      "source": [
        "#### Execute the TF graph to sample from the posterior"
      ]
    },
    {
      "metadata": {
        "id": "XJyZIwoyth2j",
        "colab_type": "code",
        "outputId": "2f9b5b13-4f00-4f3c-ecbd-03f3a818f006",
        "colab": {
          "base_uri": "https://localhost:8080/",
          "height": 53
        }
      },
      "cell_type": "code",
      "source": [
        "# In Graph Mode, this cell can take up to 36 Minutes\n",
        "evaluate(init_g)\n",
        "[\n",
        "    posterior_alpha_,\n",
        "    posterior_beta_,\n",
        "    kernel_results_\n",
        "] = evaluate([\n",
        "    posterior_alpha,\n",
        "    posterior_beta,\n",
        "    kernel_results\n",
        "])\n",
        "    \n",
        "print(\"acceptance rate: {}\".format(\n",
        "    kernel_results_.inner_results.is_accepted.mean()))\n",
        "print(\"final step size: {}\".format(\n",
        "    kernel_results_.inner_results.extra.step_size_assign[-100:].mean()))\n",
        "\n",
        "alpha_samples_ = posterior_alpha_[burnin::8]\n",
        "beta_samples_ = posterior_beta_[burnin::8]"
      ],
      "execution_count": 0,
      "outputs": [
        {
          "output_type": "stream",
          "text": [
            "acceptance rate: 0.6111833333333333\n",
            "final step size: 0.0149030527099967\n"
          ],
          "name": "stdout"
        }
      ]
    },
    {
      "metadata": {
        "id": "xIGyBkilIA0G",
        "colab_type": "text"
      },
      "cell_type": "markdown",
      "source": [
        "We have trained our model on the observed data, now we can sample values from the posterior. Let's look at the posterior distributions for $\\alpha$ and $\\beta$:"
      ]
    },
    {
      "metadata": {
        "id": "Pdgjgw9RiluO",
        "colab_type": "code",
        "outputId": "61a0acee-4216-41cd-d35c-c3bc8968f41c",
        "colab": {
          "base_uri": "https://localhost:8080/",
          "height": 391
        }
      },
      "cell_type": "code",
      "source": [
        "plt.figure(figsize(12.5, 6))\n",
        "\n",
        "#histogram of the samples:\n",
        "plt.subplot(211)\n",
        "plt.title(r\"Posterior distributions of the variables $\\alpha, \\beta$\")\n",
        "plt.hist(beta_samples_, histtype='stepfilled', bins=35, alpha=0.85,\n",
        "         label=r\"posterior of $\\beta$\", color=TFColor[6], normed=True)\n",
        "plt.legend()\n",
        "\n",
        "plt.subplot(212)\n",
        "plt.hist(alpha_samples_, histtype='stepfilled', bins=35, alpha=0.85,\n",
        "         label=r\"posterior of $\\alpha$\", color=TFColor[0], normed=True)\n",
        "plt.legend();"
      ],
      "execution_count": 0,
      "outputs": [
        {
          "output_type": "display_data",
          "data": {
            "image/png": "[encoded data removed]",
            "text/plain": [
              "<matplotlib.figure.Figure at 0x7fa6c9313860>"
            ]
          },
          "metadata": {
            "tags": []
          }
        }
      ]
    },
    {
      "metadata": {
        "id": "gp0QmuZvIA0L",
        "colab_type": "text"
      },
      "cell_type": "markdown",
      "source": [
        "All samples of $\\beta$ are greater than 0. If instead the posterior was centered around 0, we may suspect that $\\beta = 0$, implying that temperature has no effect on the probability of defect. \n",
        "\n",
        "Similarly, all $\\alpha$ posterior values are negative and far away from 0, implying that it is correct to believe that $\\alpha$ is significantly less than 0. \n",
        "\n",
        "Regarding the spread of the data, we are very uncertain about what the true parameters might be (though considering the low sample size and the large overlap of defects-to-nondefects this behaviour is perhaps expected).  \n",
        "\n",
        "Next, let's look at the *expected probability* for a specific value of the temperature. That is, we average over all samples from the posterior to get a likely value for $p(t_i)$."
      ]
    },
    {
      "metadata": {
        "id": "EIzyJL_3IA0P",
        "colab_type": "code",
        "outputId": "c5bf4e96-596a-4644-e1cb-d7e8977a8d48",
        "colab": {
          "base_uri": "https://localhost:8080/",
          "height": 269
        }
      },
      "cell_type": "code",
      "source": [
        "alpha_samples_1d_ = alpha_samples_[:, None]  # best to make them 1d\n",
        "beta_samples_1d_ = beta_samples_[:, None]\n",
        "\n",
        "\n",
        "beta_mean = tf.reduce_mean(beta_samples_1d_.T[0])\n",
        "alpha_mean = tf.reduce_mean(alpha_samples_1d_.T[0])\n",
        "[ beta_mean_, alpha_mean_ ] = evaluate([ beta_mean, alpha_mean ])\n",
        "\n",
        "\n",
        "print(\"beta mean:\", beta_mean_)\n",
        "print(\"alpha mean:\", alpha_mean_)\n",
        "def logistic(x, beta, alpha=0):\n",
        "    \"\"\"\n",
        "    Logistic function with alpha and beta.\n",
        "        \n",
        "    Args:\n",
        "      x: independent variable\n",
        "      beta: beta term \n",
        "      alpha: alpha term\n",
        "    Returns: \n",
        "      Logistic function\n",
        "    \"\"\"\n",
        "    return 1.0 / (1.0 + tf.exp((beta * x) + alpha))\n",
        "\n",
        "t_ = np.linspace(temperature_.min() - 5, temperature_.max() + 5, 2500)[:, None]\n",
        "p_t = logistic(t_.T, beta_samples_1d_, alpha_samples_1d_)\n",
        "mean_prob_t = logistic(t_.T, beta_mean_, alpha_mean_)\n",
        "[ \n",
        "    p_t_, mean_prob_t_\n",
        "] = evaluate([ \n",
        "    p_t, mean_prob_t\n",
        "])"
      ],
      "execution_count": 0,
      "outputs": [
        {
          "output_type": "stream",
          "text": [
            "beta samples shape:  (1250, 1)\n",
            "alpha samples shape:  (1250, 1)\n",
            "beta mean: 0.2165582\n",
            "alpha mean: -13.908086\n",
            "[48.    48.015 48.03  ... 85.97  85.985 86.   ]\n",
            "[[0.971 0.971 0.971 ... 0.003 0.003 0.003]\n",
            " [0.977 0.977 0.977 ... 0.005 0.005 0.005]\n",
            " [0.987 0.987 0.987 ... 0.014 0.014 0.014]\n",
            " ...\n",
            " [0.976 0.976 0.976 ... 0.002 0.002 0.002]\n",
            " [0.963 0.963 0.963 ... 0.001 0.001 0.001]\n",
            " [0.976 0.976 0.976 ... 0.002 0.002 0.002]]\n",
            "[0.384 0.416 0.502 ... 0.384 0.325 0.381]\n",
            "[[0.971 0.971 0.971 ... 0.009 0.009 0.009]]\n"
          ],
          "name": "stdout"
        }
      ]
    },
    {
      "metadata": {
        "id": "Ri4BriJHPJNg",
        "colab_type": "code",
        "outputId": "54e5db3c-1388-47cf-93ca-8c242a71f645",
        "colab": {
          "base_uri": "https://localhost:8080/",
          "height": 294
        }
      },
      "cell_type": "code",
      "source": [
        "plt.figure(figsize(12.5, 4))\n",
        "\n",
        "plt.plot(t_, mean_prob_t_.T, lw=3, label=\"average posterior \\nprobability \\\n",
        "#of defect\")\n",
        "plt.plot(t_, p_t_.T[:, 0], ls=\"--\", label=\"realization from posterior\")\n",
        "plt.plot(t_, p_t_.T[:, -8], ls=\"--\", label=\"realization from posterior\")\n",
        "plt.scatter(temperature_, D_, color=\"k\", s=50, alpha=0.5)\n",
        "plt.title(\"Posterior expected value of probability of defect; \\\n",
        "plus realizations\")\n",
        "plt.legend(loc=\"lower left\")\n",
        "plt.ylim(-0.1, 1.1)\n",
        "plt.xlim(t_.min(), t_.max())\n",
        "plt.ylabel(\"probability\")\n",
        "plt.xlabel(\"temperature\");"
      ],
      "execution_count": 0,
      "outputs": [
        {
          "output_type": "display_data",
          "data": {
            "image/png": "[encoded data removed]",
            "text/plain": [
              "<matplotlib.figure.Figure at 0x7fa6c7e0a320>"
            ]
          },
          "metadata": {
            "tags": []
          }
        }
      ]
    },
    {
      "metadata": {
        "id": "iI7Fosv1IA0T",
        "colab_type": "text"
      },
      "cell_type": "markdown",
      "source": [
        "Above we also plotted two possible realizations of what the actual underlying system might be. Both are equally likely as any other draw. The blue line is what occurs when we average all the 20000 possible dotted lines together.\n"
      ]
    },
    {
      "metadata": {
        "id": "XpRl_4Beof6G",
        "colab_type": "code",
        "outputId": "4e58885c-2ac7-45ab-b05d-ae1d97571635",
        "colab": {
          "base_uri": "https://localhost:8080/",
          "height": 300
        }
      },
      "cell_type": "code",
      "source": [
        "alpha_samples_means_ = np.array(alpha_samples_1d_.mean(axis=1))\n",
        "beta_samples_means_ = np.array(beta_samples_1d_.mean(axis=1))\n",
        "sorted_alpha_means_ = np.sort(alpha_samples_means_)\n",
        "sorted_beta_means_ = np.sort(beta_samples_means_)\n",
        "alpha_index_ = sorted_alpha_means_.shape[0]\n",
        "beta_index_ = sorted_beta_means_.shape[0]\n",
        "upper_alpha_quantile_ix_ = int(alpha_index_ * float(0.975))\n",
        "lower_alpha_quantile_ix_ = int(alpha_index_ * float(0.025))\n",
        "\n",
        "upper_beta_quantile_ix_ = int(beta_index_ * float(0.975))\n",
        "lower_beta_quantile_ix_ = int(beta_index_ * float(0.025))\n",
        "\n",
        "def find_nearest(array, value):\n",
        "    array = np.asarray(array)\n",
        "    idx = (np.abs(array - value)).argmin()\n",
        "    return idx\n",
        "\n",
        "alpha_upper_quantile_ix_ = find_nearest(alpha_samples_means_, sorted_alpha_means_[upper_alpha_quantile_ix_])\n",
        "alpha_lower_quantile_ix_ = find_nearest(alpha_samples_means_, sorted_alpha_means_[lower_alpha_quantile_ix_])\n",
        "beta_upper_quantile_ix_ = find_nearest(beta_samples_means_, sorted_beta_means_[upper_beta_quantile_ix_])\n",
        "beta_lower_quantile_ix_ = find_nearest(beta_samples_means_, sorted_beta_means_[lower_beta_quantile_ix_])\n",
        "\n",
        "p_t_low = logistic(t_.T, beta_samples_1d_[beta_lower_quantile_ix_], alpha_samples_1d_[alpha_lower_quantile_ix_])\n",
        "p_t_high = logistic(t_.T, beta_samples_1d_[beta_upper_quantile_ix_], alpha_samples_1d_[alpha_upper_quantile_ix_])\n",
        "\n",
        "[ \n",
        "    p_t_low_, p_t_high_\n",
        "] = evaluate([ \n",
        "    p_t_low, p_t_high\n",
        "])\n",
        "qs = np.stack([p_t_low_[0][::50], p_t_high_[0][::50]], axis=0)\n",
        "\n",
        "fig, (ax1) = plt.subplots(1, 1, sharex=True)\n",
        "\n",
        "ax1.fill_between(t_[::50].T[0], qs[0], qs[1], alpha=0.7, color=TFColor[6])\n",
        "plt.plot(t_[::50].T[0], qs[0], label=\"95% CI\", color=TFColor[6], alpha=0.7)\n",
        "\n",
        "plt.plot(t_.T[0][::50], mean_prob_t_[0][::50], lw=1, ls=\"--\", color=\"k\",\n",
        "         label=\"average posterior \\nprobability of defect\")\n",
        "\n",
        "\n",
        "\n",
        "plt.xlim(t_.min(), t_.max())\n",
        "plt.ylim(-0.02, 1.02)\n",
        "plt.legend(loc=\"lower left\")\n",
        "plt.scatter(temperature_, D_, color=\"k\", s=50, alpha=0.5)\n",
        "plt.xlabel(\"temp, $t$\")\n",
        "\n",
        "plt.ylabel(\"probability estimate\")\n",
        "plt.title(\"Posterior probability estimates given temp. $t$\");"
      ],
      "execution_count": 0,
      "outputs": [
        {
          "output_type": "display_data",
          "data": {
            "image/png": "[encoded data removed]",
            "text/plain": [
              "<matplotlib.figure.Figure at 0x7fa6c92c90b8>"
            ]
          },
          "metadata": {
            "tags": []
          }
        }
      ]
    },
    {
      "metadata": {
        "id": "rtcc9pBFIA0X",
        "colab_type": "text"
      },
      "cell_type": "markdown",
      "source": [
        "More generally, we can see that as the temperature nears 60 degrees, the CI's spread out over [0,1] quickly. As we pass 70 degrees, the CI's tighten again. This can give us insight about how to proceed next: we should probably test more O-rings around 60-65 temperature to get a better estimate of probabilities in that range. Similarly, when reporting to scientists your estimates, you should be very cautious about simply telling them the expected probability, as we can see this does not reflect how *wide* the posterior distribution is."
      ]
    },
    {
      "metadata": {
        "id": "lesq_3oIIA0Y",
        "colab_type": "text"
      },
      "cell_type": "markdown",
      "source": [
        "### What about the day of the Challenger disaster?\n",
        "\n",
        "On the day of the Challenger disaster, the outside temperature was 31 degrees Fahrenheit. What is the posterior distribution of a defect occurring,  given this temperature? The distribution is plotted below. It looks almost guaranteed that the Challenger was going to be subject to defective O-rings."
      ]
    },
    {
      "metadata": {
        "id": "AYbamYmdUdBZ",
        "colab_type": "code",
        "outputId": "69e992ca-9985-4cbb-d6de-522ee4dd63ba",
        "colab": {
          "base_uri": "https://localhost:8080/",
          "height": 260
        }
      },
      "cell_type": "code",
      "source": [
        "plt.figure(figsize(12.5, 3))\n",
        "\n",
        "prob_31 = logistic(31, beta_samples_, alpha_samples_)\n",
        "\n",
        "[ prob_31_ ] = evaluate([ prob_31 ])\n",
        "print(prob_31_)\n",
        "\n",
        "plt.xlim(0.995, 1)  # This should be changed to plt.xlim(0.995, 1), but illustrates the error\n",
        "plt.hist(prob_31_, bins=10, normed=True, histtype='stepfilled')\n",
        "plt.title(\"Posterior distribution of probability of defect, given $t = 31$\")\n",
        "plt.xlabel(\"probability of defect occurring in O-ring\");"
      ],
      "execution_count": 0,
      "outputs": [
        {
          "output_type": "stream",
          "text": [
            "[1. 1. 1. ... 1. 1. 1.]\n"
          ],
          "name": "stdout"
        },
        {
          "output_type": "display_data",
          "data": {
            "image/png": "[encoded data removed]",
            "text/plain": [
              "<matplotlib.figure.Figure at 0x7fa6c7d9e438>"
            ]
          },
          "metadata": {
            "tags": []
          }
        }
      ]
    },
    {
      "metadata": {
        "id": "WjAFZ8W9IA0c",
        "colab_type": "text"
      },
      "cell_type": "markdown",
      "source": [
        "### Is our model appropriate?\n",
        "\n",
        "The skeptical reader will say \"You deliberately chose the logistic function for $p(t)$ and the specific priors. Perhaps other functions or priors will give different results. How do I know I have chosen a good model?\" This is absolutely true. To consider an extreme situation, what if I had chosen the function $p(t) = 1,\\; \\forall t$, which guarantees a defect always occurring: I would have again predicted disaster on January 28th. Yet this is clearly a poorly chosen model. On the other hand, if I did choose the logistic function for $p(t)$, but specified all my priors to be very tight around 0, likely we would have very different posterior distributions. How do we know our model is an expression of the data? This encourages us to measure the model's **goodness of fit**.\n",
        "\n",
        "We can think: *how can we test whether our model is a bad fit?* An idea is to compare observed data with artificial dataset which we can simulate. The rationale is that if the simulated dataset does not appear similar, statistically, to the observed dataset, then likely our model is not accurately represented the observed data. \n",
        "\n",
        "Previously in this Chapter, we simulated an artificial dataset for the SMS example. To do this, we sampled values from the priors. We saw how varied the resulting datasets looked like, and rarely did they mimic our observed dataset. In the current example,  we should sample from the *posterior* distributions to create *very plausible datasets*. Luckily, our Bayesian framework makes this very easy. We only need to gather samples from the distribution of choice, and specify the number of samples, the shape of the samples (we had 21 observations in our original dataset, so we'll make the shape of each sample 21), and the probability we want to use to determine the ratio of 1 observations to 0 observations.\n",
        "\n",
        "\n",
        "Hence we create the following:\n",
        "\n",
        "```python\n",
        "simulated_data = tfd.Bernoulli(name=\"simulation_data\", probs=p).sample(sample_shape=N)\n",
        "```\n",
        "Let's simulate 10 000:"
      ]
    },
    {
      "metadata": {
        "id": "MvFwyz9hwROg",
        "colab_type": "code",
        "outputId": "df029706-25ef-4c61-cf2f-0a18f510250d",
        "colab": {
          "base_uri": "https://localhost:8080/",
          "height": 143
        }
      },
      "cell_type": "code",
      "source": [
        "alpha = alpha_mean_ # We're basing these values on the outputs of our model above\n",
        "beta = beta_mean_\n",
        "p_deterministic = tfd.Deterministic(name=\"p\", loc=1.0/(1. + tf.exp(beta * temperature_ + alpha))).sample()#seed=6.45)\n",
        "simulated_data = tfd.Bernoulli(name=\"bernoulli_sim\", \n",
        "                               probs=p_deterministic_).sample(sample_shape=10000)\n",
        "[ \n",
        "    bernoulli_sim_samples_,\n",
        "    p_deterministic_\n",
        "] =evaluate([\n",
        "    simulated_data,\n",
        "    p_deterministic\n",
        "])"
      ],
      "execution_count": 0,
      "outputs": [
        {
          "output_type": "stream",
          "text": [
            "[[0 1 0 ... 1 0 1]\n",
            " [1 0 0 ... 0 1 1]\n",
            " [1 1 0 ... 0 0 0]\n",
            " ...\n",
            " [0 0 0 ... 0 0 1]\n",
            " [0 0 0 ... 0 0 1]\n",
            " [0 0 1 ... 0 0 1]] (10000, 23)\n"
          ],
          "name": "stdout"
        }
      ]
    },
    {
      "metadata": {
        "id": "gDyVY1wmgjx4",
        "colab_type": "code",
        "outputId": "0789c4c5-f0f5-471d-a2c7-66a720ef66e3",
        "colab": {
          "base_uri": "https://localhost:8080/",
          "height": 736
        }
      },
      "cell_type": "code",
      "source": [
        "simulations_ = bernoulli_sim_samples_\n",
        "print(\"Number of simulations:             \", simulations_.shape[0])\n",
        "print(\"Number data points per simulation: \", simulations_.shape[1])\n",
        "\n",
        "plt.figure(figsize(12.5, 12))\n",
        "plt.title(\"Simulated dataset using posterior parameters\")\n",
        "for i in range(4):\n",
        "    ax = plt.subplot(4, 1, i+1)\n",
        "    plt.scatter(temperature_, simulations_[1000*i, :], color=\"k\",\n",
        "                s=50, alpha=0.6)\n",
        "    "
      ],
      "execution_count": 0,
      "outputs": [
        {
          "output_type": "stream",
          "text": [
            "Number of simulations:              10000\n",
            "Number data points per simulation:  23\n"
          ],
          "name": "stdout"
        },
        {
          "output_type": "display_data",
          "data": {
            "image/png": "[encoded data removed]",
            "text/plain": [
              "<matplotlib.figure.Figure at 0x7fa6c74655f8>"
            ]
          },
          "metadata": {
            "tags": []
          }
        }
      ]
    },
    {
      "metadata": {
        "id": "RFSaMzNQIA0l",
        "colab_type": "text"
      },
      "cell_type": "markdown",
      "source": [
        "Note that the above plots are different (if you can think of a cleaner way to present this, please send a pull request and answer [here](http://stats.stackexchange.com/questions/53078/how-to-visualize-bayesian-goodness-of-fit-for-logistic-regression)!).\n",
        "\n",
        "We wish to assess how good our model is. \"Good\" is a subjective term of course, so results must be relative to other models. \n",
        "\n",
        "We will be doing this graphically as well, which may seem like an even less objective method. The alternative is to use *Bayesian p-values*. These are still subjective, as the proper cutoff between good and bad is arbitrary. Gelman emphasises that the graphical tests are more illuminating [3] than p-value tests. We agree.\n",
        "\n",
        "The following graphical test is a novel data-viz approach to logistic regression. The plots are called *separation plots*[4]. For a suite of models we wish to compare, each model is plotted on an individual separation plot. I leave most of the technical details about separation plots to the very accessible [original paper](http://mdwardlab.com/sites/default/files/GreenhillWardSacks.pdf), but I'll summarize their use here.\n",
        "\n",
        "For each model, we calculate the proportion of times the posterior simulation proposed a value of 1 for a particular temperature, i.e. compute $P( \\;\\text{Defect} = 1 | t, \\alpha, \\beta )$ by averaging. This gives us the posterior probability of a defect at each data point in our dataset. For example, for the model we used above:"
      ]
    },
    {
      "metadata": {
        "id": "3ho1cPLAIA0l",
        "colab_type": "code",
        "outputId": "c3a2a8c5-7a4f-4692-fec3-4dcda641e0ac",
        "colab": {
          "base_uri": "https://localhost:8080/",
          "height": 449
        }
      },
      "cell_type": "code",
      "source": [
        "posterior_probability_ = simulations_.mean(axis=0)\n",
        "print(\"posterior prob of defect | realized defect \")\n",
        "for i in range(len(D_)):\n",
        "    print(\"%.2f                     |   %d\" % (posterior_probability_[i], D_[i]))"
      ],
      "execution_count": 0,
      "outputs": [
        {
          "output_type": "stream",
          "text": [
            "posterior prob of defect | realized defect \n",
            "0.41                     |   0\n",
            "0.22                     |   1\n",
            "0.25                     |   0\n",
            "0.31                     |   0\n",
            "0.36                     |   0\n",
            "0.16                     |   0\n",
            "0.13                     |   0\n",
            "0.22                     |   0\n",
            "0.82                     |   1\n",
            "0.57                     |   1\n",
            "0.22                     |   1\n",
            "0.04                     |   0\n",
            "0.35                     |   0\n",
            "0.92                     |   1\n",
            "0.35                     |   0\n",
            "0.09                     |   0\n",
            "0.23                     |   0\n",
            "0.03                     |   0\n",
            "0.07                     |   0\n",
            "0.04                     |   0\n",
            "0.09                     |   1\n",
            "0.07                     |   0\n",
            "0.79                     |   1\n"
          ],
          "name": "stdout"
        }
      ]
    },
    {
      "metadata": {
        "id": "-q4yysOiIA0n",
        "colab_type": "text"
      },
      "cell_type": "markdown",
      "source": [
        "Next we sort each column by the posterior probabilities:"
      ]
    },
    {
      "metadata": {
        "id": "i3TkXUhSIA0n",
        "colab_type": "code",
        "outputId": "a9ddc917-70a2-4ad7-ed81-cbf4cb08574e",
        "colab": {
          "base_uri": "https://localhost:8080/",
          "height": 449
        }
      },
      "cell_type": "code",
      "source": [
        "ix_ = np.argsort(posterior_probability_)\n",
        "print(\"probb | defect \")\n",
        "for i in range(len(D_)):\n",
        "    print(\"%.2f  |   %d\" % (posterior_probability_[ix_[i]], D_[ix_[i]]))"
      ],
      "execution_count": 0,
      "outputs": [
        {
          "output_type": "stream",
          "text": [
            "probb | defect \n",
            "0.03  |   0\n",
            "0.04  |   0\n",
            "0.04  |   0\n",
            "0.07  |   0\n",
            "0.07  |   0\n",
            "0.09  |   1\n",
            "0.09  |   0\n",
            "0.13  |   0\n",
            "0.16  |   0\n",
            "0.22  |   0\n",
            "0.22  |   1\n",
            "0.22  |   1\n",
            "0.23  |   0\n",
            "0.25  |   0\n",
            "0.31  |   0\n",
            "0.35  |   0\n",
            "0.35  |   0\n",
            "0.36  |   0\n",
            "0.41  |   0\n",
            "0.57  |   1\n",
            "0.79  |   1\n",
            "0.82  |   1\n",
            "0.92  |   1\n"
          ],
          "name": "stdout"
        }
      ]
    },
    {
      "metadata": {
        "id": "ajvopQADIA0p",
        "colab_type": "text"
      },
      "cell_type": "markdown",
      "source": [
        "We can present the above data better in a figure: we've creates a `separation_plot` function."
      ]
    },
    {
      "metadata": {
        "id": "tFR1_yu8IA0p",
        "colab_type": "code",
        "outputId": "360be32d-7c48-49c2-8e89-3c4cce36c470",
        "colab": {
          "base_uri": "https://localhost:8080/",
          "height": 239
        }
      },
      "cell_type": "code",
      "source": [
        "import matplotlib.pyplot as plt\n",
        "\n",
        "def separation_plot( p, y, **kwargs ):\n",
        "    \"\"\"\n",
        "    This function creates a separation plot for logistic and probit classification. \n",
        "    See http://mdwardlab.com/sites/default/files/GreenhillWardSacks.pdf\n",
        "    \n",
        "    p: The proportions/probabilities, can be a nxM matrix which represents M models.\n",
        "    y: the 0-1 response variables.\n",
        "    \n",
        "    \"\"\"    \n",
        "    assert p.shape[0] == y.shape[0], \"p.shape[0] != y.shape[0]\"\n",
        "    n = p.shape[0]\n",
        "\n",
        "    try:\n",
        "        M = p.shape[1]\n",
        "    except:\n",
        "        p = p.reshape( n, 1 )\n",
        "        M = p.shape[1]\n",
        "\n",
        "    colors_bmh = np.array( [\"#eeeeee\", \"#348ABD\"] )\n",
        "\n",
        "\n",
        "    fig = plt.figure( )\n",
        "    \n",
        "    for i in range(M):\n",
        "        ax = fig.add_subplot(M, 1, i+1)\n",
        "        ix = np.argsort( p[:,i] )\n",
        "        #plot the different bars\n",
        "        bars = ax.bar( np.arange(n), np.ones(n), width=1.,\n",
        "                color = colors_bmh[ y[ix].astype(int) ], \n",
        "                edgecolor = 'none')\n",
        "        ax.plot( np.arange(n+1), np.append(p[ix,i], p[ix,i][-1]), \"k\",\n",
        "                 linewidth = 1.,drawstyle=\"steps-post\" )\n",
        "        #create expected value bar.\n",
        "        ax.vlines( [(1-p[ix,i]).sum()], [0], [1] )\n",
        "        plt.xlim( 0, n)\n",
        "        \n",
        "    plt.tight_layout()\n",
        "    \n",
        "    return\n",
        "\n",
        "plt.figure(figsize(11., 3))\n",
        "separation_plot(posterior_probability_, D_)"
      ],
      "execution_count": 0,
      "outputs": [
        {
          "output_type": "display_data",
          "data": {
            "text/plain": [
              "<matplotlib.figure.Figure at 0x7fa6c7d74e10>"
            ]
          },
          "metadata": {
            "tags": []
          }
        },
        {
          "output_type": "display_data",
          "data": {
            "image/png": "[encoded data removed]",
            "text/plain": [
              "<matplotlib.figure.Figure at 0x7fa6c7d74278>"
            ]
          },
          "metadata": {
            "tags": []
          }
        }
      ]
    },
    {
      "metadata": {
        "id": "tBuY2lSaIA0s",
        "colab_type": "text"
      },
      "cell_type": "markdown",
      "source": [
        "The snaking-line is the sorted probabilities, blue bars denote defects, and empty space (or grey bars for the optimistic readers) denote non-defects.  As the probability rises, we see more and more defects occur. On the right hand side, the plot suggests that as the posterior probability is large (line close to 1), then more defects are realized. This is good behaviour. Ideally, all the blue bars *should* be close to the right-hand side, and deviations from this reflect missed predictions. \n",
        "\n",
        "The black vertical line is the expected number of defects we should observe, given this model. This allows the user to see how the total number of events predicted by the model compares to the actual number of events in the data.\n",
        "\n",
        "It is much more informative to compare this to separation plots for other models. Below we compare our model (top) versus three others:\n",
        "\n",
        "1. the perfect model, which predicts the posterior probability to be equal 1 if a defect did occur.\n",
        "2. a completely random model, which predicts random probabilities regardless of temperature.\n",
        "3. a constant model:  where $P(D = 1 \\; | \\; t) = c, \\;\\; \\forall t$. The best choice for $c$ is the observed frequency of defects, in this case 7/23.  \n"
      ]
    },
    {
      "metadata": {
        "id": "RbX1nHrBIA0s",
        "colab_type": "code",
        "outputId": "4f708148-bf1e-4a1c-8019-7f37cfcbd5c8",
        "colab": {
          "base_uri": "https://localhost:8080/",
          "height": 623
        }
      },
      "cell_type": "code",
      "source": [
        "plt.figure(figsize(11., 2))\n",
        "\n",
        "# Our temperature-dependent model\n",
        "separation_plot(posterior_probability_, D_)\n",
        "plt.title(\"Temperature-dependent model\")\n",
        "\n",
        "# Perfect model\n",
        "# i.e. the probability of defect is equal to if a defect occurred or not.\n",
        "p_ = D_\n",
        "separation_plot(p_, D_)\n",
        "plt.title(\"Perfect model\")\n",
        "\n",
        "# random predictions\n",
        "p_ = np.random.rand(23)\n",
        "separation_plot(p_, D_)\n",
        "plt.title(\"Random model\")\n",
        "\n",
        "# constant model\n",
        "constant_prob_ = 7./23 * np.ones(23)\n",
        "separation_plot(constant_prob_, D_)\n",
        "plt.title(\"Constant-prediction model\");"
      ],
      "execution_count": 0,
      "outputs": [
        {
          "output_type": "display_data",
          "data": {
            "text/plain": [
              "<matplotlib.figure.Figure at 0x7fa6c7e29588>"
            ]
          },
          "metadata": {
            "tags": []
          }
        },
        {
          "output_type": "display_data",
          "data": {
            "image/png": "[encoded data removed]",
            "text/plain": [
              "<matplotlib.figure.Figure at 0x7fa6c7e293c8>"
            ]
          },
          "metadata": {
            "tags": []
          }
        },
        {
          "output_type": "display_data",
          "data": {
            "image/png": "[encoded data removed]",
            "text/plain": [
              "<matplotlib.figure.Figure at 0x7fa6c7e4e5f8>"
            ]
          },
          "metadata": {
            "tags": []
          }
        },
        {
          "output_type": "display_data",
          "data": {
            "image/png": "[encoded data removed]",
            "text/plain": [
              "<matplotlib.figure.Figure at 0x7fa6c78eca58>"
            ]
          },
          "metadata": {
            "tags": []
          }
        },
        {
          "output_type": "display_data",
          "data": {
            "image/png": "[encoded data removed]",
            "text/plain": [
              "<matplotlib.figure.Figure at 0x7fa6c7872160>"
            ]
          },
          "metadata": {
            "tags": []
          }
        }
      ]
    },
    {
      "metadata": {
        "id": "etHuMg8OIA0u",
        "colab_type": "text"
      },
      "cell_type": "markdown",
      "source": [
        "In the random model, we can see that as the probability increases there is no clustering of defects to the right-hand side. Similarly for the constant model.\n",
        "\n",
        "In the perfect model, the probability line is not well shown, as it is stuck to the bottom and top of the figure. Of course the perfect model is only for demonstration, and we cannot infer any scientific inference from it."
      ]
    },
    {
      "metadata": {
        "id": "_I_3h7lsIA0v",
        "colab_type": "text"
      },
      "cell_type": "markdown",
      "source": [
        "## Exercises\n",
        "\n",
        "1\\. Try putting in extreme values for our observations in the cheating example. What happens if we observe 25 affirmative responses? 10? 50? "
      ]
    },
    {
      "metadata": {
        "id": "_B-K0Neyx7pZ",
        "colab_type": "code",
        "colab": {}
      },
      "cell_type": "code",
      "source": [
        "#type your code here."
      ],
      "execution_count": 0,
      "outputs": []
    },
    {
      "metadata": {
        "id": "ulECHYwMIA0v",
        "colab_type": "text"
      },
      "cell_type": "markdown",
      "source": [
        "2\\. Try plotting $\\alpha$ samples versus $\\beta$ samples.  Why might the resulting plot look like this?"
      ]
    },
    {
      "metadata": {
        "id": "21v-EuHZIA0v",
        "colab_type": "code",
        "outputId": "8cb7aae8-a297-4d6a-a94d-d7f9e9c56641",
        "colab": {
          "base_uri": "https://localhost:8080/",
          "height": 294
        }
      },
      "cell_type": "code",
      "source": [
        "#type your code here.\n",
        "plt.figure(figsize(12.5, 4))\n",
        "\n",
        "plt.scatter(alpha_samples_, beta_samples_, alpha=0.1)\n",
        "plt.title(\"Why does the plot look like this?\")\n",
        "plt.xlabel(r\"$\\alpha$\")\n",
        "plt.ylabel(r\"$\\beta$\");"
      ],
      "execution_count": 0,
      "outputs": [
        {
          "output_type": "display_data",
          "data": {
            "image/png": "[encoded data removed]",
            "text/plain": [
              "<matplotlib.figure.Figure at 0x7ffac899ffd0>"
            ]
          },
          "metadata": {
            "tags": []
          }
        }
      ]
    },
    {
      "metadata": {
        "id": "e6RYS1_jIA0y",
        "colab_type": "text"
      },
      "cell_type": "markdown",
      "source": [
        "## References\n",
        "\n",
        "[1] Dalal, Fowlkes and Hoadley (1989),JASA, 84, 945-957.\n",
        "\n",
        "[2] Cronin, Beau. \"Why Probabilistic Programming Matters.\" 24 Mar 2013. Google, Online Posting to Google . Web. 24 Mar. 2013. <https://plus.google.com/u/0/+BeauCronin/posts/KpeRdJKR6Z1>.\n",
        "\n",
        "[3] Gelman, Andrew. \"Philosophy and the practice of Bayesian statistics.\" British Journal of Mathematical and Statistical Psychology. (2012): n. page. Web. 2 Apr. 2013.\n",
        "\n",
        "[4] Greenhill, Brian, Michael D. Ward, and Audrey Sacks. \"The Separation Plot: A New Visual Method for Evaluating the Fit of Binary Models.\" American Journal of Political Science. 55.No.4 (2011): n. page. Web. 2 Apr. 2013.\n"
      ]
    },
    {
      "metadata": {
        "id": "TxfPXLi0IA0z",
        "colab_type": "code",
        "colab": {}
      },
      "cell_type": "code",
      "source": [
        "from IPython.core.display import HTML\n",
        "def css_styling():\n",
        "    styles = open(\"../styles/custom.css\", \"r\").read()\n",
        "    return HTML(styles)\n",
        "css_styling()\n"
      ],
      "execution_count": 0,
      "outputs": []
    }
  ]
}